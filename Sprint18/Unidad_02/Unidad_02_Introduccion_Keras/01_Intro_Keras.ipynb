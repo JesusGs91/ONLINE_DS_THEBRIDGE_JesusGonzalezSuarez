{
  "cells": [
    {
      "cell_type": "markdown",
      "metadata": {
        "id": "dIEDxgwE_syI"
      },
      "source": [
        "![image.png](attachment:image.png)"
      ]
    },
    {
      "cell_type": "markdown",
      "metadata": {
        "id": "rhqKAR-n_syK"
      },
      "source": [
        "# Tutorial introductorio a Keras\n",
        "\n",
        "![image.png](attachment:27532ecc-9c2b-4709-9f1c-c8adcbc76dbf.png)\n",
        "\n",
        "En el mundo del DL en Python hay dos grandes frameworks (es decir librerías que han crecido como para ser algo más que conjuntos de módulos y funciones): TensorFlow (Google) y Pytorch (Meta). Ambos son superpotentes y son un mix entre numpy triple plus y sklearn para iniciados. Son muy flexibles y tienen muchas funcionalidades... El precio, el de siempre, complejas, necesitan una curva de aprendizaje alto, un manejo de matrices y tensores fluido, etc, etc Para simplificar la vida del Data Science aparece Keras como recubrimiento de TensorFlow y con el tiempo se relacionan tanto que TensorFlow absorbe Keras y ahora es parte de TensorFlow, pero no por ello ha perdido esa magia de ofrecernos DL a un esfuerzo considerablmente menor que con TensorFlow.\n",
        "\n",
        "¿Qué vamos a ver nosotros? Un manejo relativamente introductorio pero con bastantes posibilidades. Pero aquí te dejo la documentación para que profundices si te interesa el tema porque es realmente un gran framework o un gran recubrimiento:\n",
        "\n",
        "[Documentación](https://keras.io/guides/)"
      ]
    },
    {
      "cell_type": "markdown",
      "metadata": {
        "id": "2R_evLf9_syK"
      },
      "source": [
        "Empezamos importando librerías\n",
        "\n",
        "**IMPORTANTE** Ejecutaremos TensorFlow desde Google Colab"
      ]
    },
    {
      "cell_type": "markdown",
      "metadata": {
        "id": "z29qJDDK_syL"
      },
      "source": [
        "### Carga de Datos (con train y test split incluido)"
      ]
    },
    {
      "cell_type": "code",
      "execution_count": 5,
      "metadata": {
        "id": "WJM8bw1W_syL"
      },
      "outputs": [],
      "source": [
        "import tensorflow as tf\n",
        "from tensorflow import keras\n",
        "from tensorflow.keras import layers\n",
        "\n",
        "import matplotlib.pyplot as plt\n",
        "import numpy as np\n",
        "import pandas as pd\n"
      ]
    },
    {
      "cell_type": "markdown",
      "metadata": {
        "id": "XV3oYOJH_syL"
      },
      "source": [
        "Para ver cómo usar Keras y repasar algunos conceptos de DL y la forma de trabajar con él, vamos a crearnos un modelo de clasificación de imágenes con redes densas (o perceptrones multicapa), es decir con capas ocultas totalmente conectadas. Eso nos permitirá ir conociendo cómo hacerlo con Keras y diferentes opciones del mismo. Empecemos con los datos."
      ]
    },
    {
      "cell_type": "markdown",
      "metadata": {
        "id": "jFUkzprN_syM"
      },
      "source": [
        "Cargamos los datos de mnist, el dataset de números \"a mano\" más famoso de la esfera del DataScience. Y como todavía no hemos vistos las redes que pueden trabajar con las imagenes en 2D, haremos la vectorización de las imágenes que hemos practicado otras veces. Es decir, todos los pixeles se convertirán en un vector de 28x28 features independientes, que serán las entradas del modelo."
      ]
    },
    {
      "cell_type": "code",
      "execution_count": 6,
      "metadata": {
        "colab": {
          "base_uri": "https://localhost:8080/"
        },
        "id": "cVk2uCde_syM",
        "outputId": "5f0d636d-3836-4dda-aeea-4beadcdd7803"
      },
      "outputs": [],
      "source": [
        "# Cogemos las imágenes de los dígitos asi como el conjunto de train y test\n",
        "(X_train, y_train), (X_test, y_test) = keras.datasets.mnist.load_data()"
      ]
    },
    {
      "cell_type": "markdown",
      "metadata": {
        "id": "uDNXQclQ_syM"
      },
      "source": [
        "Vemos dimensiones del dataset"
      ]
    },
    {
      "cell_type": "code",
      "execution_count": 7,
      "metadata": {
        "colab": {
          "base_uri": "https://localhost:8080/"
        },
        "id": "J0C9-Qsv_syM",
        "outputId": "d03ed387-6aba-4564-e352-f90424cece60"
      },
      "outputs": [
        {
          "name": "stdout",
          "output_type": "stream",
          "text": [
            "(60000, 28, 28)\n",
            "(60000,)\n",
            "(10000, 28, 28)\n",
            "(10000,)\n"
          ]
        }
      ],
      "source": [
        "'''\n",
        "60.000 imagenes de 28x28 pixeles\n",
        "'''\n",
        "print(X_train.shape)\n",
        "print(y_train.shape)\n",
        "print(X_test.shape)\n",
        "print(y_test.shape)"
      ]
    },
    {
      "cell_type": "code",
      "execution_count": 8,
      "metadata": {
        "colab": {
          "base_uri": "https://localhost:8080/"
        },
        "id": "PAQrtMdu_syM",
        "outputId": "e58c321d-a7c8-44d5-fc90-fda516672487"
      },
      "outputs": [
        {
          "data": {
            "text/plain": [
              "47040000"
            ]
          },
          "execution_count": 8,
          "metadata": {},
          "output_type": "execute_result"
        }
      ],
      "source": [
        "X_train.size"
      ]
    },
    {
      "cell_type": "code",
      "execution_count": 9,
      "metadata": {
        "colab": {
          "base_uri": "https://localhost:8080/",
          "height": 69
        },
        "id": "fR9tBP2g_syN",
        "outputId": "587e023e-09b5-49b1-dcdf-806e85e034d8"
      },
      "outputs": [
        {
          "data": {
            "text/plain": [
              "array([[  0,   0,   0,   0,   0,   0,   0,   0,   0,   0,   0,   0,   0,\n",
              "          0,   0,   0,   0,   0,   0,   0,   0,   0,   0,   0,   0,   0,\n",
              "          0,   0],\n",
              "       [  0,   0,   0,   0,   0,   0,   0,   0,   0,   0,   0,   0,   0,\n",
              "          0,   0,   0,   0,   0,   0,   0,   0,   0,   0,   0,   0,   0,\n",
              "          0,   0],\n",
              "       [  0,   0,   0,   0,   0,   0,   0,   0,   0,   0,   0,   0,   0,\n",
              "          0,   0,   0,   0,   0,   0,   0,   0,   0,   0,   0,   0,   0,\n",
              "          0,   0],\n",
              "       [  0,   0,   0,   0,   0,   0,   0,   0,   0,   0,   0,   0,   0,\n",
              "          0,   0,   0,   0,   0,   0,   0,   0,   0,   0,   0,   0,   0,\n",
              "          0,   0],\n",
              "       [  0,   0,   0,   0,   0,   0,   0,   0,   0,   0,   0,   0,   0,\n",
              "          0,   0,   0,   0,   0,   0,   0,   0,   0,   0,   0,   0,   0,\n",
              "          0,   0],\n",
              "       [  0,   0,   0,   0,   0,   0,   0,   0,   0,   0,   0,   0,   3,\n",
              "         18,  18,  18, 126, 136, 175,  26, 166, 255, 247, 127,   0,   0,\n",
              "          0,   0],\n",
              "       [  0,   0,   0,   0,   0,   0,   0,   0,  30,  36,  94, 154, 170,\n",
              "        253, 253, 253, 253, 253, 225, 172, 253, 242, 195,  64,   0,   0,\n",
              "          0,   0],\n",
              "       [  0,   0,   0,   0,   0,   0,   0,  49, 238, 253, 253, 253, 253,\n",
              "        253, 253, 253, 253, 251,  93,  82,  82,  56,  39,   0,   0,   0,\n",
              "          0,   0],\n",
              "       [  0,   0,   0,   0,   0,   0,   0,  18, 219, 253, 253, 253, 253,\n",
              "        253, 198, 182, 247, 241,   0,   0,   0,   0,   0,   0,   0,   0,\n",
              "          0,   0],\n",
              "       [  0,   0,   0,   0,   0,   0,   0,   0,  80, 156, 107, 253, 253,\n",
              "        205,  11,   0,  43, 154,   0,   0,   0,   0,   0,   0,   0,   0,\n",
              "          0,   0],\n",
              "       [  0,   0,   0,   0,   0,   0,   0,   0,   0,  14,   1, 154, 253,\n",
              "         90,   0,   0,   0,   0,   0,   0,   0,   0,   0,   0,   0,   0,\n",
              "          0,   0],\n",
              "       [  0,   0,   0,   0,   0,   0,   0,   0,   0,   0,   0, 139, 253,\n",
              "        190,   2,   0,   0,   0,   0,   0,   0,   0,   0,   0,   0,   0,\n",
              "          0,   0],\n",
              "       [  0,   0,   0,   0,   0,   0,   0,   0,   0,   0,   0,  11, 190,\n",
              "        253,  70,   0,   0,   0,   0,   0,   0,   0,   0,   0,   0,   0,\n",
              "          0,   0],\n",
              "       [  0,   0,   0,   0,   0,   0,   0,   0,   0,   0,   0,   0,  35,\n",
              "        241, 225, 160, 108,   1,   0,   0,   0,   0,   0,   0,   0,   0,\n",
              "          0,   0],\n",
              "       [  0,   0,   0,   0,   0,   0,   0,   0,   0,   0,   0,   0,   0,\n",
              "         81, 240, 253, 253, 119,  25,   0,   0,   0,   0,   0,   0,   0,\n",
              "          0,   0],\n",
              "       [  0,   0,   0,   0,   0,   0,   0,   0,   0,   0,   0,   0,   0,\n",
              "          0,  45, 186, 253, 253, 150,  27,   0,   0,   0,   0,   0,   0,\n",
              "          0,   0],\n",
              "       [  0,   0,   0,   0,   0,   0,   0,   0,   0,   0,   0,   0,   0,\n",
              "          0,   0,  16,  93, 252, 253, 187,   0,   0,   0,   0,   0,   0,\n",
              "          0,   0],\n",
              "       [  0,   0,   0,   0,   0,   0,   0,   0,   0,   0,   0,   0,   0,\n",
              "          0,   0,   0,   0, 249, 253, 249,  64,   0,   0,   0,   0,   0,\n",
              "          0,   0],\n",
              "       [  0,   0,   0,   0,   0,   0,   0,   0,   0,   0,   0,   0,   0,\n",
              "          0,  46, 130, 183, 253, 253, 207,   2,   0,   0,   0,   0,   0,\n",
              "          0,   0],\n",
              "       [  0,   0,   0,   0,   0,   0,   0,   0,   0,   0,   0,   0,  39,\n",
              "        148, 229, 253, 253, 253, 250, 182,   0,   0,   0,   0,   0,   0,\n",
              "          0,   0],\n",
              "       [  0,   0,   0,   0,   0,   0,   0,   0,   0,   0,  24, 114, 221,\n",
              "        253, 253, 253, 253, 201,  78,   0,   0,   0,   0,   0,   0,   0,\n",
              "          0,   0],\n",
              "       [  0,   0,   0,   0,   0,   0,   0,   0,  23,  66, 213, 253, 253,\n",
              "        253, 253, 198,  81,   2,   0,   0,   0,   0,   0,   0,   0,   0,\n",
              "          0,   0],\n",
              "       [  0,   0,   0,   0,   0,   0,  18, 171, 219, 253, 253, 253, 253,\n",
              "        195,  80,   9,   0,   0,   0,   0,   0,   0,   0,   0,   0,   0,\n",
              "          0,   0],\n",
              "       [  0,   0,   0,   0,  55, 172, 226, 253, 253, 253, 253, 244, 133,\n",
              "         11,   0,   0,   0,   0,   0,   0,   0,   0,   0,   0,   0,   0,\n",
              "          0,   0],\n",
              "       [  0,   0,   0,   0, 136, 253, 253, 253, 212, 135, 132,  16,   0,\n",
              "          0,   0,   0,   0,   0,   0,   0,   0,   0,   0,   0,   0,   0,\n",
              "          0,   0],\n",
              "       [  0,   0,   0,   0,   0,   0,   0,   0,   0,   0,   0,   0,   0,\n",
              "          0,   0,   0,   0,   0,   0,   0,   0,   0,   0,   0,   0,   0,\n",
              "          0,   0],\n",
              "       [  0,   0,   0,   0,   0,   0,   0,   0,   0,   0,   0,   0,   0,\n",
              "          0,   0,   0,   0,   0,   0,   0,   0,   0,   0,   0,   0,   0,\n",
              "          0,   0],\n",
              "       [  0,   0,   0,   0,   0,   0,   0,   0,   0,   0,   0,   0,   0,\n",
              "          0,   0,   0,   0,   0,   0,   0,   0,   0,   0,   0,   0,   0,\n",
              "          0,   0]], dtype=uint8)"
            ]
          },
          "execution_count": 9,
          "metadata": {},
          "output_type": "execute_result"
        }
      ],
      "source": [
        "X_train[0]"
      ]
    },
    {
      "cell_type": "markdown",
      "metadata": {
        "id": "HeHnZmR9_syN"
      },
      "source": [
        "60.000 imágenes de 28x28 pixeles. Vamos a representar una de ellas"
      ]
    },
    {
      "cell_type": "code",
      "execution_count": 10,
      "metadata": {
        "colab": {
          "base_uri": "https://localhost:8080/",
          "height": 430
        },
        "id": "TPsvPO4L_syN",
        "outputId": "a9344399-516f-48b8-cba4-21ab4ad6317d"
      },
      "outputs": [
        {
          "data": {
            "image/png": "[encoded data removed]",
            "text/plain": [
              "<Figure size 640x480 with 1 Axes>"
            ]
          },
          "metadata": {},
          "output_type": "display_data"
        }
      ],
      "source": [
        "plt.imshow(X_train[0], cmap='Greys');"
      ]
    },
    {
      "cell_type": "code",
      "execution_count": 11,
      "metadata": {
        "colab": {
          "base_uri": "https://localhost:8080/"
        },
        "id": "HStKoSiM_syN",
        "outputId": "fa3b56a3-9e91-4a1b-8663-b8a5793dec66"
      },
      "outputs": [
        {
          "data": {
            "text/plain": [
              "5"
            ]
          },
          "execution_count": 11,
          "metadata": {},
          "output_type": "execute_result"
        }
      ],
      "source": [
        "y_train[0]"
      ]
    },
    {
      "cell_type": "code",
      "execution_count": 12,
      "metadata": {
        "colab": {
          "base_uri": "https://localhost:8080/"
        },
        "id": "DoVXCc3T_syN",
        "outputId": "56d711ed-f4a5-4e83-a489-0a0e9983fe8e"
      },
      "outputs": [
        {
          "data": {
            "text/plain": [
              "246"
            ]
          },
          "execution_count": 12,
          "metadata": {},
          "output_type": "execute_result"
        }
      ],
      "source": [
        "X_train[25000,12,18]"
      ]
    },
    {
      "cell_type": "code",
      "execution_count": 13,
      "metadata": {
        "colab": {
          "base_uri": "https://localhost:8080/"
        },
        "id": "knrbt2t0_syN",
        "outputId": "1c8ae1c1-c6ee-42ed-9f73-6197b4f349d3"
      },
      "outputs": [
        {
          "data": {
            "text/plain": [
              "(60000, 28, 28)"
            ]
          },
          "execution_count": 13,
          "metadata": {},
          "output_type": "execute_result"
        }
      ],
      "source": [
        "X_train.shape"
      ]
    },
    {
      "cell_type": "markdown",
      "metadata": {
        "id": "wswh1eoj_syN"
      },
      "source": [
        "### MiniEDA/Tratamiento de features"
      ]
    },
    {
      "cell_type": "markdown",
      "metadata": {
        "id": "kSvjgfmj_syO"
      },
      "source": [
        "Como \"buen\" miniEDA DL solo vamos a ver el target y a normalizar las features (¿recuerdas cómo nos fue con los pingüinos?)"
      ]
    },
    {
      "cell_type": "code",
      "execution_count": 14,
      "metadata": {
        "colab": {
          "base_uri": "https://localhost:8080/",
          "height": 397
        },
        "id": "dtXFkJkc_syO",
        "outputId": "b29c3a99-22ec-49f5-b0dc-6ec311738cee"
      },
      "outputs": [
        {
          "data": {
            "text/plain": [
              "1    0.112367\n",
              "7    0.104417\n",
              "3    0.102183\n",
              "2    0.099300\n",
              "9    0.099150\n",
              "0    0.098717\n",
              "6    0.098633\n",
              "8    0.097517\n",
              "4    0.097367\n",
              "5    0.090350\n",
              "Name: proportion, dtype: float64"
            ]
          },
          "execution_count": 14,
          "metadata": {},
          "output_type": "execute_result"
        }
      ],
      "source": [
        "pd.Series(y_train).value_counts(normalize = True) # Un detalle interesante en DL es bastante normal tratar directamente con arrays de numpy y no con dataframes, mas si son imágenes"
      ]
    },
    {
      "cell_type": "markdown",
      "metadata": {
        "id": "3d93aq-A_syO"
      },
      "source": [
        "El dataset está bastante equilibrado (los modelos de DL admiten también el equivalente a class_weight para balancear), con una ligera deriva hacia el 1, el 7 y el 3"
      ]
    },
    {
      "cell_type": "markdown",
      "metadata": {
        "id": "FXuxmagX_syO"
      },
      "source": [
        "#### Escalado"
      ]
    },
    {
      "cell_type": "markdown",
      "metadata": {
        "id": "l_M6g1nP_syO"
      },
      "source": [
        "Podemos usar un MinMaxScaler o un StandardScaler, pero en este caso hay una forma muy directa, ya que los valores de escala de grises de las imágenes van entre 0 y 255, con lo que hacer un equivalente al MinMaxScaler es muy directa"
      ]
    },
    {
      "cell_type": "code",
      "execution_count": 15,
      "metadata": {
        "id": "2Js0Roj1_syO"
      },
      "outputs": [],
      "source": [
        "# Preprocess the data (these are NumPy arrays). Aplano a una dimension cada imagen.\n",
        "# Escalamos ya que vamos a usar gradient descent, y le afecta mucho la escala de las features.\n",
        "# Ejecutar esta celda solo una vez. Sino reescalará\n",
        "\n",
        "X_train = X_train.astype(\"float32\") / 255\n",
        "X_test = X_test.astype(\"float32\") / 255\n",
        "\n",
        "y_train = y_train.astype(\"float32\")\n",
        "y_test = y_test.astype(\"float32\")"
      ]
    },
    {
      "cell_type": "code",
      "execution_count": 16,
      "metadata": {
        "colab": {
          "base_uri": "https://localhost:8080/"
        },
        "id": "fx4Og_H0_syO",
        "outputId": "487a3fa5-5245-4e8a-dc2a-3ea673f05080"
      },
      "outputs": [
        {
          "data": {
            "text/plain": [
              "array([[0.        , 0.        , 0.        , 0.        , 0.        ,\n",
              "        0.        , 0.        , 0.        , 0.        , 0.        ,\n",
              "        0.        , 0.        , 0.        , 0.        , 0.        ,\n",
              "        0.        , 0.        , 0.        , 0.        , 0.        ,\n",
              "        0.        , 0.        , 0.        , 0.        , 0.        ,\n",
              "        0.        , 0.        , 0.        ],\n",
              "       [0.        , 0.        , 0.        , 0.        , 0.        ,\n",
              "        0.        , 0.        , 0.        , 0.        , 0.        ,\n",
              "        0.        , 0.        , 0.        , 0.        , 0.        ,\n",
              "        0.        , 0.        , 0.        , 0.        , 0.        ,\n",
              "        0.        , 0.        , 0.        , 0.        , 0.        ,\n",
              "        0.        , 0.        , 0.        ],\n",
              "       [0.        , 0.        , 0.        , 0.        , 0.        ,\n",
              "        0.        , 0.        , 0.        , 0.        , 0.        ,\n",
              "        0.        , 0.        , 0.        , 0.        , 0.        ,\n",
              "        0.        , 0.        , 0.        , 0.        , 0.        ,\n",
              "        0.        , 0.        , 0.        , 0.        , 0.        ,\n",
              "        0.        , 0.        , 0.        ],\n",
              "       [0.        , 0.        , 0.        , 0.        , 0.        ,\n",
              "        0.        , 0.        , 0.        , 0.        , 0.        ,\n",
              "        0.        , 0.        , 0.        , 0.        , 0.        ,\n",
              "        0.        , 0.        , 0.        , 0.        , 0.        ,\n",
              "        0.        , 0.        , 0.        , 0.        , 0.        ,\n",
              "        0.        , 0.        , 0.        ],\n",
              "       [0.        , 0.        , 0.        , 0.        , 0.        ,\n",
              "        0.        , 0.        , 0.        , 0.        , 0.        ,\n",
              "        0.        , 0.        , 0.        , 0.        , 0.        ,\n",
              "        0.        , 0.        , 0.        , 0.        , 0.        ,\n",
              "        0.        , 0.        , 0.        , 0.        , 0.        ,\n",
              "        0.        , 0.        , 0.        ],\n",
              "       [0.        , 0.        , 0.        , 0.        , 0.        ,\n",
              "        0.        , 0.        , 0.        , 0.        , 0.        ,\n",
              "        0.        , 0.        , 0.01176471, 0.07058824, 0.07058824,\n",
              "        0.07058824, 0.49411765, 0.53333336, 0.6862745 , 0.10196079,\n",
              "        0.6509804 , 1.        , 0.96862745, 0.49803922, 0.        ,\n",
              "        0.        , 0.        , 0.        ],\n",
              "       [0.        , 0.        , 0.        , 0.        , 0.        ,\n",
              "        0.        , 0.        , 0.        , 0.11764706, 0.14117648,\n",
              "        0.36862746, 0.6039216 , 0.6666667 , 0.99215686, 0.99215686,\n",
              "        0.99215686, 0.99215686, 0.99215686, 0.88235295, 0.6745098 ,\n",
              "        0.99215686, 0.9490196 , 0.7647059 , 0.2509804 , 0.        ,\n",
              "        0.        , 0.        , 0.        ],\n",
              "       [0.        , 0.        , 0.        , 0.        , 0.        ,\n",
              "        0.        , 0.        , 0.19215687, 0.93333334, 0.99215686,\n",
              "        0.99215686, 0.99215686, 0.99215686, 0.99215686, 0.99215686,\n",
              "        0.99215686, 0.99215686, 0.9843137 , 0.3647059 , 0.32156864,\n",
              "        0.32156864, 0.21960784, 0.15294118, 0.        , 0.        ,\n",
              "        0.        , 0.        , 0.        ],\n",
              "       [0.        , 0.        , 0.        , 0.        , 0.        ,\n",
              "        0.        , 0.        , 0.07058824, 0.85882354, 0.99215686,\n",
              "        0.99215686, 0.99215686, 0.99215686, 0.99215686, 0.7764706 ,\n",
              "        0.7137255 , 0.96862745, 0.94509804, 0.        , 0.        ,\n",
              "        0.        , 0.        , 0.        , 0.        , 0.        ,\n",
              "        0.        , 0.        , 0.        ],\n",
              "       [0.        , 0.        , 0.        , 0.        , 0.        ,\n",
              "        0.        , 0.        , 0.        , 0.3137255 , 0.6117647 ,\n",
              "        0.41960785, 0.99215686, 0.99215686, 0.8039216 , 0.04313726,\n",
              "        0.        , 0.16862746, 0.6039216 , 0.        , 0.        ,\n",
              "        0.        , 0.        , 0.        , 0.        , 0.        ,\n",
              "        0.        , 0.        , 0.        ],\n",
              "       [0.        , 0.        , 0.        , 0.        , 0.        ,\n",
              "        0.        , 0.        , 0.        , 0.        , 0.05490196,\n",
              "        0.00392157, 0.6039216 , 0.99215686, 0.3529412 , 0.        ,\n",
              "        0.        , 0.        , 0.        , 0.        , 0.        ,\n",
              "        0.        , 0.        , 0.        , 0.        , 0.        ,\n",
              "        0.        , 0.        , 0.        ],\n",
              "       [0.        , 0.        , 0.        , 0.        , 0.        ,\n",
              "        0.        , 0.        , 0.        , 0.        , 0.        ,\n",
              "        0.        , 0.54509807, 0.99215686, 0.74509805, 0.00784314,\n",
              "        0.        , 0.        , 0.        , 0.        , 0.        ,\n",
              "        0.        , 0.        , 0.        , 0.        , 0.        ,\n",
              "        0.        , 0.        , 0.        ],\n",
              "       [0.        , 0.        , 0.        , 0.        , 0.        ,\n",
              "        0.        , 0.        , 0.        , 0.        , 0.        ,\n",
              "        0.        , 0.04313726, 0.74509805, 0.99215686, 0.27450982,\n",
              "        0.        , 0.        , 0.        , 0.        , 0.        ,\n",
              "        0.        , 0.        , 0.        , 0.        , 0.        ,\n",
              "        0.        , 0.        , 0.        ],\n",
              "       [0.        , 0.        , 0.        , 0.        , 0.        ,\n",
              "        0.        , 0.        , 0.        , 0.        , 0.        ,\n",
              "        0.        , 0.        , 0.13725491, 0.94509804, 0.88235295,\n",
              "        0.627451  , 0.42352942, 0.00392157, 0.        , 0.        ,\n",
              "        0.        , 0.        , 0.        , 0.        , 0.        ,\n",
              "        0.        , 0.        , 0.        ],\n",
              "       [0.        , 0.        , 0.        , 0.        , 0.        ,\n",
              "        0.        , 0.        , 0.        , 0.        , 0.        ,\n",
              "        0.        , 0.        , 0.        , 0.31764707, 0.9411765 ,\n",
              "        0.99215686, 0.99215686, 0.46666667, 0.09803922, 0.        ,\n",
              "        0.        , 0.        , 0.        , 0.        , 0.        ,\n",
              "        0.        , 0.        , 0.        ],\n",
              "       [0.        , 0.        , 0.        , 0.        , 0.        ,\n",
              "        0.        , 0.        , 0.        , 0.        , 0.        ,\n",
              "        0.        , 0.        , 0.        , 0.        , 0.1764706 ,\n",
              "        0.7294118 , 0.99215686, 0.99215686, 0.5882353 , 0.10588235,\n",
              "        0.        , 0.        , 0.        , 0.        , 0.        ,\n",
              "        0.        , 0.        , 0.        ],\n",
              "       [0.        , 0.        , 0.        , 0.        , 0.        ,\n",
              "        0.        , 0.        , 0.        , 0.        , 0.        ,\n",
              "        0.        , 0.        , 0.        , 0.        , 0.        ,\n",
              "        0.0627451 , 0.3647059 , 0.9882353 , 0.99215686, 0.73333335,\n",
              "        0.        , 0.        , 0.        , 0.        , 0.        ,\n",
              "        0.        , 0.        , 0.        ],\n",
              "       [0.        , 0.        , 0.        , 0.        , 0.        ,\n",
              "        0.        , 0.        , 0.        , 0.        , 0.        ,\n",
              "        0.        , 0.        , 0.        , 0.        , 0.        ,\n",
              "        0.        , 0.        , 0.9764706 , 0.99215686, 0.9764706 ,\n",
              "        0.2509804 , 0.        , 0.        , 0.        , 0.        ,\n",
              "        0.        , 0.        , 0.        ],\n",
              "       [0.        , 0.        , 0.        , 0.        , 0.        ,\n",
              "        0.        , 0.        , 0.        , 0.        , 0.        ,\n",
              "        0.        , 0.        , 0.        , 0.        , 0.18039216,\n",
              "        0.50980395, 0.7176471 , 0.99215686, 0.99215686, 0.8117647 ,\n",
              "        0.00784314, 0.        , 0.        , 0.        , 0.        ,\n",
              "        0.        , 0.        , 0.        ],\n",
              "       [0.        , 0.        , 0.        , 0.        , 0.        ,\n",
              "        0.        , 0.        , 0.        , 0.        , 0.        ,\n",
              "        0.        , 0.        , 0.15294118, 0.5803922 , 0.8980392 ,\n",
              "        0.99215686, 0.99215686, 0.99215686, 0.98039216, 0.7137255 ,\n",
              "        0.        , 0.        , 0.        , 0.        , 0.        ,\n",
              "        0.        , 0.        , 0.        ],\n",
              "       [0.        , 0.        , 0.        , 0.        , 0.        ,\n",
              "        0.        , 0.        , 0.        , 0.        , 0.        ,\n",
              "        0.09411765, 0.44705883, 0.8666667 , 0.99215686, 0.99215686,\n",
              "        0.99215686, 0.99215686, 0.7882353 , 0.30588236, 0.        ,\n",
              "        0.        , 0.        , 0.        , 0.        , 0.        ,\n",
              "        0.        , 0.        , 0.        ],\n",
              "       [0.        , 0.        , 0.        , 0.        , 0.        ,\n",
              "        0.        , 0.        , 0.        , 0.09019608, 0.25882354,\n",
              "        0.8352941 , 0.99215686, 0.99215686, 0.99215686, 0.99215686,\n",
              "        0.7764706 , 0.31764707, 0.00784314, 0.        , 0.        ,\n",
              "        0.        , 0.        , 0.        , 0.        , 0.        ,\n",
              "        0.        , 0.        , 0.        ],\n",
              "       [0.        , 0.        , 0.        , 0.        , 0.        ,\n",
              "        0.        , 0.07058824, 0.67058825, 0.85882354, 0.99215686,\n",
              "        0.99215686, 0.99215686, 0.99215686, 0.7647059 , 0.3137255 ,\n",
              "        0.03529412, 0.        , 0.        , 0.        , 0.        ,\n",
              "        0.        , 0.        , 0.        , 0.        , 0.        ,\n",
              "        0.        , 0.        , 0.        ],\n",
              "       [0.        , 0.        , 0.        , 0.        , 0.21568628,\n",
              "        0.6745098 , 0.8862745 , 0.99215686, 0.99215686, 0.99215686,\n",
              "        0.99215686, 0.95686275, 0.52156866, 0.04313726, 0.        ,\n",
              "        0.        , 0.        , 0.        , 0.        , 0.        ,\n",
              "        0.        , 0.        , 0.        , 0.        , 0.        ,\n",
              "        0.        , 0.        , 0.        ],\n",
              "       [0.        , 0.        , 0.        , 0.        , 0.53333336,\n",
              "        0.99215686, 0.99215686, 0.99215686, 0.83137256, 0.5294118 ,\n",
              "        0.5176471 , 0.0627451 , 0.        , 0.        , 0.        ,\n",
              "        0.        , 0.        , 0.        , 0.        , 0.        ,\n",
              "        0.        , 0.        , 0.        , 0.        , 0.        ,\n",
              "        0.        , 0.        , 0.        ],\n",
              "       [0.        , 0.        , 0.        , 0.        , 0.        ,\n",
              "        0.        , 0.        , 0.        , 0.        , 0.        ,\n",
              "        0.        , 0.        , 0.        , 0.        , 0.        ,\n",
              "        0.        , 0.        , 0.        , 0.        , 0.        ,\n",
              "        0.        , 0.        , 0.        , 0.        , 0.        ,\n",
              "        0.        , 0.        , 0.        ],\n",
              "       [0.        , 0.        , 0.        , 0.        , 0.        ,\n",
              "        0.        , 0.        , 0.        , 0.        , 0.        ,\n",
              "        0.        , 0.        , 0.        , 0.        , 0.        ,\n",
              "        0.        , 0.        , 0.        , 0.        , 0.        ,\n",
              "        0.        , 0.        , 0.        , 0.        , 0.        ,\n",
              "        0.        , 0.        , 0.        ],\n",
              "       [0.        , 0.        , 0.        , 0.        , 0.        ,\n",
              "        0.        , 0.        , 0.        , 0.        , 0.        ,\n",
              "        0.        , 0.        , 0.        , 0.        , 0.        ,\n",
              "        0.        , 0.        , 0.        , 0.        , 0.        ,\n",
              "        0.        , 0.        , 0.        , 0.        , 0.        ,\n",
              "        0.        , 0.        , 0.        ]], dtype=float32)"
            ]
          },
          "execution_count": 16,
          "metadata": {},
          "output_type": "execute_result"
        }
      ],
      "source": [
        "'''\n",
        "Comprobamos la normalización\n",
        "'''\n",
        "X_train[0]"
      ]
    },
    {
      "cell_type": "markdown",
      "metadata": {
        "id": "CDSnzQcC_syO"
      },
      "source": [
        "### ¿Y el Validation_set?"
      ]
    },
    {
      "cell_type": "markdown",
      "metadata": {
        "id": "RdnKn-Lo_syP"
      },
      "source": [
        "En el tratamiento de modelos de DL lo normal es no usar validación cruzada (en general porque no tendremos modelos \"alternativos\" al que estemos construyendo y también porque lo pesado de los entrenamientos hace costoso en tiempo poder usar esta forma de comparación). Lo que se suele hacer es tener un dataset de Validación. Para ello, ya que nos han dado los datasets separados, podemos \"cortar un trozo\" del train."
      ]
    },
    {
      "cell_type": "markdown",
      "metadata": {
        "id": "wAgZWfEz_syP"
      },
      "source": [
        "Guardamos datos para validación. Estos datos se usarán durante el entrenamiento. Otra opción es decirle a Keras en la etapa de entrenamiento que reserve un X % de los datos para validar (como argumento del método `fit`)."
      ]
    },
    {
      "cell_type": "code",
      "execution_count": 17,
      "metadata": {
        "colab": {
          "base_uri": "https://localhost:8080/"
        },
        "id": "Vo1sai_r_syP",
        "outputId": "e91c5286-6904-4219-a2e9-d3b9a020d0ad"
      },
      "outputs": [
        {
          "name": "stdout",
          "output_type": "stream",
          "text": [
            "[[[0. 0. 0. ... 0. 0. 0.]\n",
            "  [0. 0. 0. ... 0. 0. 0.]\n",
            "  [0. 0. 0. ... 0. 0. 0.]\n",
            "  ...\n",
            "  [0. 0. 0. ... 0. 0. 0.]\n",
            "  [0. 0. 0. ... 0. 0. 0.]\n",
            "  [0. 0. 0. ... 0. 0. 0.]]\n",
            "\n",
            " [[0. 0. 0. ... 0. 0. 0.]\n",
            "  [0. 0. 0. ... 0. 0. 0.]\n",
            "  [0. 0. 0. ... 0. 0. 0.]\n",
            "  ...\n",
            "  [0. 0. 0. ... 0. 0. 0.]\n",
            "  [0. 0. 0. ... 0. 0. 0.]\n",
            "  [0. 0. 0. ... 0. 0. 0.]]\n",
            "\n",
            " [[0. 0. 0. ... 0. 0. 0.]\n",
            "  [0. 0. 0. ... 0. 0. 0.]\n",
            "  [0. 0. 0. ... 0. 0. 0.]\n",
            "  ...\n",
            "  [0. 0. 0. ... 0. 0. 0.]\n",
            "  [0. 0. 0. ... 0. 0. 0.]\n",
            "  [0. 0. 0. ... 0. 0. 0.]]\n",
            "\n",
            " ...\n",
            "\n",
            " [[0. 0. 0. ... 0. 0. 0.]\n",
            "  [0. 0. 0. ... 0. 0. 0.]\n",
            "  [0. 0. 0. ... 0. 0. 0.]\n",
            "  ...\n",
            "  [0. 0. 0. ... 0. 0. 0.]\n",
            "  [0. 0. 0. ... 0. 0. 0.]\n",
            "  [0. 0. 0. ... 0. 0. 0.]]\n",
            "\n",
            " [[0. 0. 0. ... 0. 0. 0.]\n",
            "  [0. 0. 0. ... 0. 0. 0.]\n",
            "  [0. 0. 0. ... 0. 0. 0.]\n",
            "  ...\n",
            "  [0. 0. 0. ... 0. 0. 0.]\n",
            "  [0. 0. 0. ... 0. 0. 0.]\n",
            "  [0. 0. 0. ... 0. 0. 0.]]\n",
            "\n",
            " [[0. 0. 0. ... 0. 0. 0.]\n",
            "  [0. 0. 0. ... 0. 0. 0.]\n",
            "  [0. 0. 0. ... 0. 0. 0.]\n",
            "  ...\n",
            "  [0. 0. 0. ... 0. 0. 0.]\n",
            "  [0. 0. 0. ... 0. 0. 0.]\n",
            "  [0. 0. 0. ... 0. 0. 0.]]]\n"
          ]
        }
      ],
      "source": [
        "# Reserve 10,000 samples for validation. Entraran dentro del modelo para validar. No es validacion cruzada\n",
        "X_val = X_train[-10000:]\n",
        "y_val = y_train[-10000:]\n",
        "\n",
        "X_train = X_train[:-10000]\n",
        "y_train = y_train[:-10000]\n",
        "\n",
        "print(X_val)"
      ]
    },
    {
      "cell_type": "code",
      "execution_count": 18,
      "metadata": {
        "colab": {
          "base_uri": "https://localhost:8080/",
          "height": 397
        },
        "id": "TFCG6wmS_syP",
        "outputId": "ffb20704-f660-48d1-a5d7-154d1e6a9908",
        "scrolled": true
      },
      "outputs": [
        {
          "data": {
            "text/plain": [
              "7.0    0.1090\n",
              "1.0    0.1064\n",
              "3.0    0.1030\n",
              "8.0    0.1009\n",
              "0.0    0.0991\n",
              "2.0    0.0990\n",
              "4.0    0.0983\n",
              "6.0    0.0967\n",
              "9.0    0.0961\n",
              "5.0    0.0915\n",
              "Name: proportion, dtype: float64"
            ]
          },
          "execution_count": 18,
          "metadata": {},
          "output_type": "execute_result"
        }
      ],
      "source": [
        "pd.Series(y_val).value_counts(True)"
      ]
    },
    {
      "cell_type": "markdown",
      "metadata": {
        "id": "BU0lN1IX_syP"
      },
      "source": [
        "Además nos ha mantenido bastante bien la estratificación."
      ]
    },
    {
      "cell_type": "code",
      "execution_count": 19,
      "metadata": {
        "colab": {
          "base_uri": "https://localhost:8080/",
          "height": 447
        },
        "id": "NrdR1ER2_syP",
        "outputId": "59f618ca-7f9a-4b99-9bf9-ec4df128b95a",
        "scrolled": true
      },
      "outputs": [
        {
          "data": {
            "text/plain": [
              "<matplotlib.image.AxesImage at 0x31125cef0>"
            ]
          },
          "execution_count": 19,
          "metadata": {},
          "output_type": "execute_result"
        },
        {
          "data": {
            "image/png": "[encoded data removed]",
            "text/plain": [
              "<Figure size 640x480 with 1 Axes>"
            ]
          },
          "metadata": {},
          "output_type": "display_data"
        }
      ],
      "source": [
        "plt.imshow(X_val[1234], cmap='Greys')"
      ]
    },
    {
      "cell_type": "code",
      "execution_count": 20,
      "metadata": {
        "colab": {
          "base_uri": "https://localhost:8080/"
        },
        "id": "PDelmdDI_syP",
        "outputId": "29c84f6e-0f8f-455e-aa25-0e476affff54"
      },
      "outputs": [
        {
          "data": {
            "text/plain": [
              "5.0"
            ]
          },
          "execution_count": 20,
          "metadata": {},
          "output_type": "execute_result"
        }
      ],
      "source": [
        "y_val[1234]"
      ]
    },
    {
      "cell_type": "markdown",
      "metadata": {
        "id": "GpGlToFT_syP"
      },
      "source": [
        "***"
      ]
    },
    {
      "cell_type": "markdown",
      "metadata": {
        "id": "qbU9O8hq_syQ"
      },
      "source": [
        "## DEFINICION/CONSTRUCCION"
      ]
    },
    {
      "cell_type": "markdown",
      "metadata": {
        "id": "gMbjxUhi_syQ"
      },
      "source": [
        "Para este problema vamos a construir una topología \"sencilla\" multicapa completamente conectada. O sea un MLP (aunque no tendrán el step como fuciones de activación) o una red densa. Recordando lo que vimos en la sesión de WrapUp de la unidad anterior. Vamos a montar la siguiente red:"
      ]
    },
    {
      "cell_type": "markdown",
      "metadata": {
        "id": "phVBvcVS_syQ"
      },
      "source": [
        "<img src=\"./img/mlp_clasification.png\" alt=\"drawing\" width=\"300\"/>"
      ]
    },
    {
      "cell_type": "markdown",
      "metadata": {
        "id": "FULcsk_b_syQ"
      },
      "source": [
        "#### Capas de Keras"
      ]
    },
    {
      "cell_type": "markdown",
      "metadata": {
        "id": "JkAEpbeN_syQ"
      },
      "source": [
        "¿Cómo construimos con Keras? Vamos a utilizar \"layers\" diferentes tipos de capas que podemos ajustar entre si como bloques de lego. Evidentemente tendremos una layer \"densa\" con sus neuronas y unidades pero también capas que hacen otro tipo de funciones y no se entrenan, y capas más complejas que sí se entrenan y que iremos viendo en sucesivos sprints."
      ]
    },
    {
      "cell_type": "markdown",
      "metadata": {
        "id": "hla-c09k_syU"
      },
      "source": [
        "En nuestro caso para implementar una topología sencilla como la anterior aplicada a nuestro problema específico de clasificación de MNIST usaremos las siguientes capas (layers) de Keras:\n",
        "\n",
        "* **Sequential**: API para iniciar la red neuronal. No cuenta como capa.\n",
        "* **Flatten**: capa de entrada especial. Necesita un vector unidimensional. Como tenemos imágenes, esta capa aplana las imagenes (2D) en 1D.\n",
        "* **Dense**: es una hidden layer. Cada hidden layer se compondrá de `n` neuronas y de una función de activación que se aplicará a todas las neuronas de la capa. La capa de salida también serás densa (porque sus unidades o neuronas estarán conectadas a todas las unidades de la capa anteriore) pero como es un problema de clasificación multiclase (10 clases), se compondrá de tantas neuronas como clases tengamos (o sea... muy bien, diez unidades o neuronas).\n",
        "\n"
      ]
    },
    {
      "cell_type": "markdown",
      "metadata": {
        "id": "bz_oJoNS_syV"
      },
      "source": [
        "#### Softmax"
      ]
    },
    {
      "cell_type": "markdown",
      "metadata": {
        "id": "0dDEjf0n_syV"
      },
      "source": [
        "Un poco más sobre la activación softmax:    \n",
        "\n",
        "Fórmula:  \n",
        "<img src=\"./img/softmax_function.png\" alt=\"drawing\" width=\"150\"/>\n",
        "\n",
        "Función de transferencia:  \n",
        "<img src=\"./img/softmax_activation.png\" alt=\"drawing\" width=\"150\"/>\n",
        "\n",
        "Ejemplo de funcionamiento:  \n",
        "<img src=\"./img/softmax_example.png\" alt=\"drawing\" width=\"400\"/>"
      ]
    },
    {
      "cell_type": "markdown",
      "metadata": {
        "id": "dk0Pjltq_syV"
      },
      "source": [
        "$$Softmax(5) = \\frac{e^5}{e^5+e^{2.5}+e^{0.5}} = \\frac{148.41}{148.41 + 12.18 + 1.65} = 0.91$$"
      ]
    },
    {
      "cell_type": "markdown",
      "metadata": {
        "id": "u-WK5WGT_syV"
      },
      "source": [
        "Es una activación un poco especial porque no afecta a una unidad por separado sino que se aplica al conjunto de unidades y da una salida para cada una."
      ]
    },
    {
      "cell_type": "markdown",
      "metadata": {
        "id": "JVLq83S3_syV"
      },
      "source": [
        "A construir..."
      ]
    },
    {
      "cell_type": "markdown",
      "metadata": {
        "id": "PP7GkzAX_syV"
      },
      "source": [
        "#### Construcción \"apilando\""
      ]
    },
    {
      "cell_type": "code",
      "execution_count": 21,
      "metadata": {
        "colab": {
          "base_uri": "https://localhost:8080/"
        },
        "id": "QPMzAcMm_syV",
        "outputId": "6df30fb7-9541-4d2a-d394-77213d9cb171"
      },
      "outputs": [
        {
          "name": "stderr",
          "output_type": "stream",
          "text": [
            "/Library/Frameworks/Python.framework/Versions/3.12/lib/python3.12/site-packages/keras/src/layers/reshaping/flatten.py:37: UserWarning: Do not pass an `input_shape`/`input_dim` argument to a layer. When using Sequential models, prefer using an `Input(shape)` object as the first layer in the model instead.\n",
            "  super().__init__(**kwargs)\n"
          ]
        }
      ],
      "source": [
        "# Una manera de declarar la red neuronal\n",
        "\n",
        "# Siempre hay que declarar la capa sequential para empezar a declarar la red\n",
        "# Se trata de la API sequential\n",
        "model = keras.models.Sequential()\n",
        "\n",
        "# Flatten, aplana en un unico vector. Y especificamos el tamaño de la entrada\n",
        "# Es como si hiciese un .reshape(-1, 28*28)\n",
        "# \"kernel_initializer\" o \"bias_initializer\" No lo usamos pero seria para inicializar los pesos de otra manera\n",
        "model.add(keras.layers.Flatten(input_shape=(28,28)))\n",
        "\n",
        "# Capas de la red. Dense es la capa de neuronas. Necesitamos numero y activacion\n",
        "model.add(keras.layers.Dense(units = 300, # Numero de neuronas de la capa\n",
        "                             activation='relu'))\n",
        "\n",
        "model.add(keras.layers.Dense(100,\n",
        "                             activation='relu'))\n",
        "\n",
        "# Capa de salida, con tamaño del número de clases\n",
        "# Suele ir aqui un softmax. Para multiclase guay. Si es binaria -> sigmoide\n",
        "model.add(keras.layers.Dense(10, activation='softmax'))"
      ]
    },
    {
      "cell_type": "markdown",
      "metadata": {
        "id": "364adytf_syW"
      },
      "source": [
        "#### Construcción con listas (secuencias de capas)"
      ]
    },
    {
      "cell_type": "code",
      "execution_count": 22,
      "metadata": {
        "id": "sEpoBj9M_syW"
      },
      "outputs": [],
      "source": [
        "# Otra manera de declarar la red neuronal\n",
        "capas = [\n",
        "    keras.layers.Flatten(input_shape=(28,28)),\n",
        "    keras.layers.Dense(300, activation='relu'),\n",
        "    keras.layers.Dense(100, activation='relu'),\n",
        "    keras.layers.Dense(10, activation='softmax')\n",
        "]\n",
        "model = keras.models.Sequential(capas)"
      ]
    },
    {
      "cell_type": "markdown",
      "metadata": {
        "id": "QW2woGp1_syW"
      },
      "source": [
        "#### Usando la denominada \"Functional API\""
      ]
    },
    {
      "cell_type": "markdown",
      "metadata": {
        "id": "CWxfc2KW_syW"
      },
      "source": [
        "La functional API de Keras va encadenando capas como si fueran llamadas de funciones entre sí, es un poco más compleja pero permite topologías mucho más ricas"
      ]
    },
    {
      "cell_type": "code",
      "execution_count": 23,
      "metadata": {
        "id": "ZDuAwhBI_syW"
      },
      "outputs": [],
      "source": [
        "# Y una forma mediante encademaniento de funciones (usando lo que se denomina la Functional API)\n",
        "input_layer = keras.layers.Input(shape = (28,28))\n",
        "flatten_layer = keras.layers.Flatten()(input_layer)\n",
        "hidden_1 = keras.layers.Dense(300, activation = \"relu\")(flatten_layer)\n",
        "hidden_2 = keras.layers.Dense(100, activation = \"relu\")(hidden_1)\n",
        "output = keras.layers.Dense(10, activation = \"softmax\")(hidden_2)\n",
        "model = keras.Model(inputs = [input_layer], outputs = [output])"
      ]
    },
    {
      "cell_type": "markdown",
      "metadata": {
        "id": "48aGK0ms_syW"
      },
      "source": [
        "La functional API me va a permitir construir redes como estas:\n",
        "\n",
        "<img src=\"./img/otras_arquitecturas.png\" alt=\"drawing\" width=\"600\"/>"
      ]
    },
    {
      "cell_type": "markdown",
      "metadata": {
        "id": "hXGoxqx9_syW"
      },
      "source": [
        "Podemos ver las capas, y acceder a sus elementos"
      ]
    },
    {
      "cell_type": "code",
      "execution_count": 24,
      "metadata": {
        "colab": {
          "base_uri": "https://localhost:8080/"
        },
        "id": "JnAhsTdg_syX",
        "outputId": "024f4a53-2d23-472d-e5a3-d1b9b845bb7e"
      },
      "outputs": [
        {
          "name": "stdout",
          "output_type": "stream",
          "text": [
            "<Flatten name=flatten_2, built=True>\n"
          ]
        },
        {
          "data": {
            "text/plain": [
              "[<InputLayer name=input_layer_2, built=True>,\n",
              " <Flatten name=flatten_2, built=True>,\n",
              " <Dense name=dense_6, built=True>,\n",
              " <Dense name=dense_7, built=True>,\n",
              " <Dense name=dense_8, built=True>]"
            ]
          },
          "execution_count": 24,
          "metadata": {},
          "output_type": "execute_result"
        }
      ],
      "source": [
        "print(model.layers[1])\n",
        "model.layers"
      ]
    },
    {
      "cell_type": "markdown",
      "metadata": {
        "id": "Ubnn-jXq_syX"
      },
      "source": [
        "Podemos ver los pesos de las capas sin entrenar, porque los inicializa \"aleatoriamente\". Los bias los inicializa a 0."
      ]
    },
    {
      "cell_type": "code",
      "execution_count": 25,
      "metadata": {
        "colab": {
          "base_uri": "https://localhost:8080/"
        },
        "id": "JPFleW55_syX",
        "outputId": "08006a4f-fc58-4b84-c09b-a078aee692a1"
      },
      "outputs": [
        {
          "data": {
            "text/plain": [
              "(784, 300)"
            ]
          },
          "execution_count": 25,
          "metadata": {},
          "output_type": "execute_result"
        }
      ],
      "source": [
        "hidden1 = model.layers[2]\n",
        "weights, biases = hidden1.get_weights()\n",
        "\n",
        "# 784 features (pixeles de las imagenes) x 300 neuronas\n",
        "# Los pesos están inicializados aleatoriamente\n",
        "weights.shape"
      ]
    },
    {
      "cell_type": "code",
      "execution_count": 26,
      "metadata": {
        "colab": {
          "base_uri": "https://localhost:8080/"
        },
        "id": "Drp6nqil_syX",
        "outputId": "27136a21-b5d7-4570-ba48-9e467f80901d"
      },
      "outputs": [
        {
          "data": {
            "text/plain": [
              "235200"
            ]
          },
          "execution_count": 26,
          "metadata": {},
          "output_type": "execute_result"
        }
      ],
      "source": [
        "weights.size"
      ]
    },
    {
      "cell_type": "code",
      "execution_count": 27,
      "metadata": {
        "colab": {
          "base_uri": "https://localhost:8080/"
        },
        "id": "ToWnD_aE_syX",
        "outputId": "077a0a0a-0dde-43e0-c5a2-300ed9684a09"
      },
      "outputs": [
        {
          "data": {
            "text/plain": [
              "array([-0.00113668,  0.06792893,  0.01807895,  0.05585314,  0.04045685,\n",
              "       -0.02968235,  0.0392839 , -0.02811647, -0.05100591, -0.03676777,\n",
              "        0.02763797,  0.06520772, -0.02084444,  0.0019592 ,  0.03958561,\n",
              "       -0.00946642,  0.00376135,  0.00145011,  0.00745779, -0.07294405,\n",
              "        0.03517376,  0.04759302, -0.00582768,  0.07204977,  0.0569405 ,\n",
              "        0.05468111, -0.05578855,  0.01867831,  0.02413489, -0.0312326 ,\n",
              "       -0.00445795, -0.06706464,  0.0148493 ,  0.05000211,  0.02169432,\n",
              "        0.04743648, -0.07081058,  0.02843507, -0.04968199,  0.01975185,\n",
              "        0.03415646,  0.02506731, -0.01919578, -0.01999021,  0.060454  ,\n",
              "       -0.03570045, -0.05745454, -0.07342457,  0.01293508,  0.07132998,\n",
              "       -0.06121213,  0.07206523,  0.01112642, -0.04314093,  0.04145525,\n",
              "        0.03243735,  0.03422175, -0.00818314, -0.06906826,  0.03946873,\n",
              "        0.04345065,  0.00075537,  0.03667003, -0.0688531 ,  0.01429183,\n",
              "        0.02548763,  0.06721233, -0.0476965 , -0.01603337, -0.01768507,\n",
              "        0.01096061, -0.02117313, -0.0234456 , -0.0155882 , -0.03539706,\n",
              "        0.00684601, -0.04648682,  0.05619462,  0.05055342,  0.06015918,\n",
              "        0.07075013, -0.06108821,  0.06291574,  0.01953646, -0.02991184,\n",
              "       -0.07036809, -0.03372631, -0.05859732,  0.00562976, -0.02670265,\n",
              "       -0.07351592,  0.03418553, -0.06489716,  0.05736282,  0.01826704,\n",
              "        0.02461439, -0.06932916,  0.03516175,  0.04570702,  0.06311722,\n",
              "       -0.0087559 ,  0.0533873 , -0.03837645, -0.05943407,  0.02543023,\n",
              "        0.00559947, -0.04234583, -0.02638602, -0.03904196,  0.03035922,\n",
              "        0.03813569, -0.02511824,  0.06488235,  0.0020149 ,  0.05304255,\n",
              "        0.00849722,  0.05704887,  0.003797  , -0.07370202,  0.06800053,\n",
              "       -0.05448774, -0.06630885, -0.03194678,  0.01681619,  0.06977302,\n",
              "       -0.00636003,  0.04051971,  0.03591224,  0.00708769,  0.03388806,\n",
              "        0.04027577,  0.06243743,  0.03637838,  0.0169777 , -0.02295172,\n",
              "        0.06796587, -0.06797569, -0.05711229,  0.0396883 ,  0.02579658,\n",
              "        0.07034428,  0.06984031, -0.06903043, -0.02865272,  0.04491492,\n",
              "        0.05875728, -0.06075708,  0.04267761, -0.00455253,  0.00931448,\n",
              "       -0.02155821,  0.05271424, -0.07439027,  0.01348082,  0.04783777,\n",
              "       -0.07333964, -0.02885073, -0.03296665,  0.00214835, -0.05320201,\n",
              "        0.06843257,  0.05728839, -0.02643478,  0.02537444,  0.04571322,\n",
              "        0.01949617, -0.0583961 ,  0.05118801, -0.04027387,  0.06161684,\n",
              "        0.04074621,  0.02018486,  0.04696063, -0.02895969, -0.0421624 ,\n",
              "        0.06231824,  0.04026283, -0.01595105, -0.04829604,  0.02834059,\n",
              "       -0.06974354, -0.0186284 ,  0.05345134, -0.01247356,  0.01852142,\n",
              "       -0.05370006, -0.0524641 , -0.06212541,  0.0601494 ,  0.03584906,\n",
              "        0.02871562,  0.0367725 ,  0.04766829,  0.04144714, -0.03524889,\n",
              "       -0.0502223 ,  0.03035711, -0.04877369,  0.0663591 ,  0.02298819,\n",
              "        0.03179307, -0.04532713, -0.05989828, -0.04923411,  0.00784317,\n",
              "        0.07331011, -0.01650789, -0.01496693, -0.05811396, -0.0549016 ,\n",
              "        0.00251029,  0.04041295,  0.00607603, -0.06610352,  0.01043699,\n",
              "       -0.0544816 , -0.00744818,  0.04976741,  0.02237189, -0.06772456,\n",
              "       -0.06925802,  0.01036072, -0.00080863,  0.05782695,  0.07014973,\n",
              "       -0.07199217, -0.07399464, -0.01369068,  0.02994334, -0.01820292,\n",
              "       -0.02067712, -0.04540935,  0.02203932, -0.01522962,  0.07331972,\n",
              "        0.02215018,  0.05101719,  0.02453557,  0.06904483, -0.02478814,\n",
              "       -0.03247359, -0.06042251,  0.04327641,  0.05678068,  0.03301094,\n",
              "       -0.02126522, -0.01703842,  0.02028909,  0.06702819, -0.00111248,\n",
              "       -0.05826672,  0.06849276, -0.03562777, -0.0181869 ,  0.01277766,\n",
              "       -0.03211213, -0.05107617,  0.00164951,  0.0619252 ,  0.03512687,\n",
              "        0.0073658 ,  0.0572127 , -0.01509021, -0.05664562,  0.01621387,\n",
              "        0.04390138, -0.02702969, -0.05644403,  0.0547262 , -0.02472109,\n",
              "       -0.03676905,  0.01306234,  0.06558235,  0.04350822,  0.0081779 ,\n",
              "       -0.00295422, -0.03958887, -0.00988071,  0.05540046, -0.03903479,\n",
              "       -0.03588973, -0.02526314, -0.03547161,  0.04744332,  0.02780569,\n",
              "        0.05186231,  0.00724274,  0.07035609,  0.02284712,  0.00660618,\n",
              "       -0.04458277, -0.00046071, -0.03225792,  0.05489458, -0.06422362,\n",
              "        0.07187977, -0.01373784, -0.07385729,  0.0702631 ,  0.0479026 ],\n",
              "      dtype=float32)"
            ]
          },
          "execution_count": 27,
          "metadata": {},
          "output_type": "execute_result"
        }
      ],
      "source": [
        "weights[0]"
      ]
    },
    {
      "cell_type": "markdown",
      "metadata": {
        "id": "zh-9iL2G_syX"
      },
      "source": [
        "Sí, podríamo ya hacer una predicción"
      ]
    },
    {
      "cell_type": "code",
      "execution_count": 28,
      "metadata": {
        "colab": {
          "base_uri": "https://localhost:8080/"
        },
        "id": "KjU7rucU_syY",
        "outputId": "1ee5b3f7-a357-43e5-9f84-31cf4a7a68b3"
      },
      "outputs": [
        {
          "name": "stdout",
          "output_type": "stream",
          "text": [
            "\u001b[1m1/1\u001b[0m \u001b[32m━━━━━━━━━━━━━━━━━━━━\u001b[0m\u001b[37m\u001b[0m \u001b[1m0s\u001b[0m 23ms/step\n"
          ]
        },
        {
          "name": "stderr",
          "output_type": "stream",
          "text": [
            "/Library/Frameworks/Python.framework/Versions/3.12/lib/python3.12/site-packages/keras/src/models/functional.py:225: UserWarning: The structure of `inputs` doesn't match the expected structure: ['keras_tensor_16']. Received: the structure of inputs=('*',)\n",
            "  warnings.warn(\n"
          ]
        },
        {
          "data": {
            "text/plain": [
              "array([[0.08557776, 0.09508379, 0.09260984, 0.06148719, 0.09502706,\n",
              "        0.11955624, 0.12304612, 0.15869984, 0.08918731, 0.07972485]],\n",
              "      dtype=float32)"
            ]
          },
          "execution_count": 28,
          "metadata": {},
          "output_type": "execute_result"
        }
      ],
      "source": [
        "model.predict([X_train[1234:1235,:]]) # Espera batches o conjunto de valores por eso hay que dárselo así"
      ]
    },
    {
      "cell_type": "markdown",
      "metadata": {
        "id": "bni6E0Bi_syY"
      },
      "source": [
        "Tenemos tantas salidas como neuronas y son \"probabilidades\", tendremos que hacer nosotros la conversión:"
      ]
    },
    {
      "cell_type": "code",
      "execution_count": 29,
      "metadata": {
        "colab": {
          "base_uri": "https://localhost:8080/"
        },
        "id": "fqKb-ME0_syY",
        "outputId": "25971cf4-4802-4254-d2f5-1428c572d38c"
      },
      "outputs": [
        {
          "name": "stdout",
          "output_type": "stream",
          "text": [
            "\u001b[1m1/1\u001b[0m \u001b[32m━━━━━━━━━━━━━━━━━━━━\u001b[0m\u001b[37m\u001b[0m \u001b[1m0s\u001b[0m 7ms/step\n"
          ]
        },
        {
          "data": {
            "text/plain": [
              "7"
            ]
          },
          "execution_count": 29,
          "metadata": {},
          "output_type": "execute_result"
        }
      ],
      "source": [
        "model.predict([X_train[1234:1235,:]])[0].argmax()"
      ]
    },
    {
      "cell_type": "markdown",
      "metadata": {
        "id": "bKpGi6y6_syY"
      },
      "source": [
        "Nuestra modelo no entrenado pero inicializado dice que 9... y es"
      ]
    },
    {
      "cell_type": "code",
      "execution_count": 30,
      "metadata": {
        "colab": {
          "base_uri": "https://localhost:8080/",
          "height": 447
        },
        "id": "0op56NBa_syY",
        "outputId": "1ff9ce7c-99b9-4dc5-960e-9e91fad675b5"
      },
      "outputs": [
        {
          "data": {
            "text/plain": [
              "<matplotlib.image.AxesImage at 0x311245b20>"
            ]
          },
          "execution_count": 30,
          "metadata": {},
          "output_type": "execute_result"
        },
        {
          "data": {
            "image/png": "[encoded data removed]",
            "text/plain": [
              "<Figure size 640x480 with 1 Axes>"
            ]
          },
          "metadata": {},
          "output_type": "display_data"
        }
      ],
      "source": [
        "plt.imshow(X_train[1234], cmap = \"Greys\")"
      ]
    },
    {
      "cell_type": "markdown",
      "metadata": {
        "id": "PsE4QX1l_syY"
      },
      "source": [
        "¿No esperarías otra cosa? :-)"
      ]
    },
    {
      "cell_type": "markdown",
      "metadata": {
        "id": "fwI4vtGr_syY"
      },
      "source": [
        "***"
      ]
    },
    {
      "cell_type": "markdown",
      "metadata": {
        "id": "yimCZrwa_syZ"
      },
      "source": [
        "#### Inicializadores:  \n",
        "\n",
        "Antes de seguir y al hilo de lo que vimos de los pesos al finalizar la sección anterior, hay que recordar que cuando construimos un modelo o red DL, de partida sus pesos se inicializan a valores diferentes de cero (si no, no habría gradiente que propagar ni nada que hacer). Esa inicialización afecta al comportamiento de la red, y no es un aleatorio cualquiera. Lo iremos recordando... De hecho el tipo de inicialización es un hiperparámetro. Ahora ya puedes obviar parcialmente el inciso y sigamos...\n",
        "\n",
        "O sea:\n",
        "\n",
        "- Los pesos inicializados a cero -> No aprendizaje\n",
        "- Desde siempre se inicializan \"aleatoriamente\", pero no sólo de forma uniforme (todos los valores con la misma probabilidad), sino que se emplean diferentes distribuciones de probabilidad con parámetros que dependen del número de entradas y salidas de la capa. El objetivo esintentar que las varianzas de las entradas sean similares a las de las salidas y evitar el problema del gradiente que se desvanece (\"Vanishing Gradient\" problem):  \n",
        "    *   Glorot inizialization (por defecto la de Keras, con función uniforme de distribución) -> Para cuando tienes funciones de activación (ninguna, tanh, sigmoid, softmax, aunque también se usa por defecto :-) para casi todo) [Xavier Glorot & Yoshua Bengio]\n",
        "    *   He inizialization, -> Para cuando tienes ReLU, Leaky ReLU, ELU, GELU, Swish, Mish [He Kaiming et al.]\n",
        "    *   LeCunn inizialization -> Para cuando tienes SELU [Jean LeCunn]\n",
        "- Es un hiperparámetro"
      ]
    },
    {
      "cell_type": "markdown",
      "metadata": {
        "id": "GdD8M9vp_syZ"
      },
      "source": [
        "Establecemos la configuración de ejecución... el compile."
      ]
    },
    {
      "cell_type": "code",
      "execution_count": 31,
      "metadata": {
        "id": "dYwD5JhH_syZ"
      },
      "outputs": [],
      "source": [
        "# Se especifica la configuración del entrenamiento (optimizador, pérdida, métricas):\n",
        "model.compile(\n",
        "    # Stocastic gradient descent. El algoritmo para minimizar la loss function\n",
        "    # El stocastic va haciendo muestreo en cada evaluacion, no usa todo el dataset\n",
        "    # Podemos modificar el learning rate(0.01 por defecto) mediante el parametro lr\n",
        "    optimizer=keras.optimizers.SGD(),  # Optimizer, con parámetros por defecto\n",
        "\n",
        "\n",
        "    # Loss function to minimize\n",
        "    # sparse_categorical_crossentropy cuando tenemos un label en nuna columna\n",
        "    # Si lo tuviesemos en varias tipo dummy, cogeriamos categorical_crossentropy\n",
        "    # binary_crossentropy si es una neurona, clasi binario\n",
        "    loss=keras.losses.SparseCategoricalCrossentropy(),\n",
        "\n",
        "    # List of metrics to monitor\n",
        "    metrics=[keras.metrics.SparseCategoricalAccuracy()],\n",
        ")"
      ]
    },
    {
      "cell_type": "code",
      "execution_count": 32,
      "metadata": {
        "id": "ITfP3fUK_syZ"
      },
      "outputs": [],
      "source": [
        "# Equivalente (... casi, los parámetros del optimizador serán los que tenga por defecto)\n",
        "model.compile(optimizer=\"sgd\",\n",
        "              loss=\"sparse_categorical_crossentropy\",\n",
        "              metrics=[\"accuracy\"])"
      ]
    },
    {
      "cell_type": "code",
      "execution_count": 33,
      "metadata": {
        "colab": {
          "base_uri": "https://localhost:8080/",
          "height": 289
        },
        "id": "96wgmyyp_syZ",
        "outputId": "da2a143f-9dba-4d91-f1d3-bbeec89cf73f",
        "tags": []
      },
      "outputs": [
        {
          "data": {
            "text/html": [
              "<pre style=\"white-space:pre;overflow-x:auto;line-height:normal;font-family:Menlo,'DejaVu Sans Mono',consolas,'Courier New',monospace\"><span style=\"font-weight: bold\">Model: \"functional_5\"</span>\n",
              "</pre>\n"
            ],
            "text/plain": [
              "\u001b[1mModel: \"functional_5\"\u001b[0m\n"
            ]
          },
          "metadata": {},
          "output_type": "display_data"
        },
        {
          "data": {
            "text/html": [
              "<pre style=\"white-space:pre;overflow-x:auto;line-height:normal;font-family:Menlo,'DejaVu Sans Mono',consolas,'Courier New',monospace\">┏━━━━━━━━━━━━━━━━━━━━━━━━━━━━━━━━━┳━━━━━━━━━━━━━━━━━━━━━━━━┳━━━━━━━━━━━━━━━┓\n",
              "┃<span style=\"font-weight: bold\"> Layer (type)                    </span>┃<span style=\"font-weight: bold\"> Output Shape           </span>┃<span style=\"font-weight: bold\">       Param # </span>┃\n",
              "┡━━━━━━━━━━━━━━━━━━━━━━━━━━━━━━━━━╇━━━━━━━━━━━━━━━━━━━━━━━━╇━━━━━━━━━━━━━━━┩\n",
              "│ input_layer_2 (<span style=\"color: #0087ff; text-decoration-color: #0087ff\">InputLayer</span>)      │ (<span style=\"color: #00d7ff; text-decoration-color: #00d7ff\">None</span>, <span style=\"color: #00af00; text-decoration-color: #00af00\">28</span>, <span style=\"color: #00af00; text-decoration-color: #00af00\">28</span>)         │             <span style=\"color: #00af00; text-decoration-color: #00af00\">0</span> │\n",
              "├─────────────────────────────────┼────────────────────────┼───────────────┤\n",
              "│ flatten_2 (<span style=\"color: #0087ff; text-decoration-color: #0087ff\">Flatten</span>)             │ (<span style=\"color: #00d7ff; text-decoration-color: #00d7ff\">None</span>, <span style=\"color: #00af00; text-decoration-color: #00af00\">784</span>)            │             <span style=\"color: #00af00; text-decoration-color: #00af00\">0</span> │\n",
              "├─────────────────────────────────┼────────────────────────┼───────────────┤\n",
              "│ dense_6 (<span style=\"color: #0087ff; text-decoration-color: #0087ff\">Dense</span>)                 │ (<span style=\"color: #00d7ff; text-decoration-color: #00d7ff\">None</span>, <span style=\"color: #00af00; text-decoration-color: #00af00\">300</span>)            │       <span style=\"color: #00af00; text-decoration-color: #00af00\">235,500</span> │\n",
              "├─────────────────────────────────┼────────────────────────┼───────────────┤\n",
              "│ dense_7 (<span style=\"color: #0087ff; text-decoration-color: #0087ff\">Dense</span>)                 │ (<span style=\"color: #00d7ff; text-decoration-color: #00d7ff\">None</span>, <span style=\"color: #00af00; text-decoration-color: #00af00\">100</span>)            │        <span style=\"color: #00af00; text-decoration-color: #00af00\">30,100</span> │\n",
              "├─────────────────────────────────┼────────────────────────┼───────────────┤\n",
              "│ dense_8 (<span style=\"color: #0087ff; text-decoration-color: #0087ff\">Dense</span>)                 │ (<span style=\"color: #00d7ff; text-decoration-color: #00d7ff\">None</span>, <span style=\"color: #00af00; text-decoration-color: #00af00\">10</span>)             │         <span style=\"color: #00af00; text-decoration-color: #00af00\">1,010</span> │\n",
              "└─────────────────────────────────┴────────────────────────┴───────────────┘\n",
              "</pre>\n"
            ],
            "text/plain": [
              "┏━━━━━━━━━━━━━━━━━━━━━━━━━━━━━━━━━┳━━━━━━━━━━━━━━━━━━━━━━━━┳━━━━━━━━━━━━━━━┓\n",
              "┃\u001b[1m \u001b[0m\u001b[1mLayer (type)                   \u001b[0m\u001b[1m \u001b[0m┃\u001b[1m \u001b[0m\u001b[1mOutput Shape          \u001b[0m\u001b[1m \u001b[0m┃\u001b[1m \u001b[0m\u001b[1m      Param #\u001b[0m\u001b[1m \u001b[0m┃\n",
              "┡━━━━━━━━━━━━━━━━━━━━━━━━━━━━━━━━━╇━━━━━━━━━━━━━━━━━━━━━━━━╇━━━━━━━━━━━━━━━┩\n",
              "│ input_layer_2 (\u001b[38;5;33mInputLayer\u001b[0m)      │ (\u001b[38;5;45mNone\u001b[0m, \u001b[38;5;34m28\u001b[0m, \u001b[38;5;34m28\u001b[0m)         │             \u001b[38;5;34m0\u001b[0m │\n",
              "├─────────────────────────────────┼────────────────────────┼───────────────┤\n",
              "│ flatten_2 (\u001b[38;5;33mFlatten\u001b[0m)             │ (\u001b[38;5;45mNone\u001b[0m, \u001b[38;5;34m784\u001b[0m)            │             \u001b[38;5;34m0\u001b[0m │\n",
              "├─────────────────────────────────┼────────────────────────┼───────────────┤\n",
              "│ dense_6 (\u001b[38;5;33mDense\u001b[0m)                 │ (\u001b[38;5;45mNone\u001b[0m, \u001b[38;5;34m300\u001b[0m)            │       \u001b[38;5;34m235,500\u001b[0m │\n",
              "├─────────────────────────────────┼────────────────────────┼───────────────┤\n",
              "│ dense_7 (\u001b[38;5;33mDense\u001b[0m)                 │ (\u001b[38;5;45mNone\u001b[0m, \u001b[38;5;34m100\u001b[0m)            │        \u001b[38;5;34m30,100\u001b[0m │\n",
              "├─────────────────────────────────┼────────────────────────┼───────────────┤\n",
              "│ dense_8 (\u001b[38;5;33mDense\u001b[0m)                 │ (\u001b[38;5;45mNone\u001b[0m, \u001b[38;5;34m10\u001b[0m)             │         \u001b[38;5;34m1,010\u001b[0m │\n",
              "└─────────────────────────────────┴────────────────────────┴───────────────┘\n"
            ]
          },
          "metadata": {},
          "output_type": "display_data"
        },
        {
          "data": {
            "text/html": [
              "<pre style=\"white-space:pre;overflow-x:auto;line-height:normal;font-family:Menlo,'DejaVu Sans Mono',consolas,'Courier New',monospace\"><span style=\"font-weight: bold\"> Total params: </span><span style=\"color: #00af00; text-decoration-color: #00af00\">266,610</span> (1.02 MB)\n",
              "</pre>\n"
            ],
            "text/plain": [
              "\u001b[1m Total params: \u001b[0m\u001b[38;5;34m266,610\u001b[0m (1.02 MB)\n"
            ]
          },
          "metadata": {},
          "output_type": "display_data"
        },
        {
          "data": {
            "text/html": [
              "<pre style=\"white-space:pre;overflow-x:auto;line-height:normal;font-family:Menlo,'DejaVu Sans Mono',consolas,'Courier New',monospace\"><span style=\"font-weight: bold\"> Trainable params: </span><span style=\"color: #00af00; text-decoration-color: #00af00\">266,610</span> (1.02 MB)\n",
              "</pre>\n"
            ],
            "text/plain": [
              "\u001b[1m Trainable params: \u001b[0m\u001b[38;5;34m266,610\u001b[0m (1.02 MB)\n"
            ]
          },
          "metadata": {},
          "output_type": "display_data"
        },
        {
          "data": {
            "text/html": [
              "<pre style=\"white-space:pre;overflow-x:auto;line-height:normal;font-family:Menlo,'DejaVu Sans Mono',consolas,'Courier New',monospace\"><span style=\"font-weight: bold\"> Non-trainable params: </span><span style=\"color: #00af00; text-decoration-color: #00af00\">0</span> (0.00 B)\n",
              "</pre>\n"
            ],
            "text/plain": [
              "\u001b[1m Non-trainable params: \u001b[0m\u001b[38;5;34m0\u001b[0m (0.00 B)\n"
            ]
          },
          "metadata": {},
          "output_type": "display_data"
        }
      ],
      "source": [
        "# Summary\n",
        "# La primera hidden layer tiene 784 entradas x 300 salidas\n",
        "# Son los 235500 params = 784x300 + 300 (bias)\n",
        "model.summary()"
      ]
    },
    {
      "cell_type": "markdown",
      "metadata": {
        "id": "_Po_6xFN_sya"
      },
      "source": [
        "#### CAPAS"
      ]
    },
    {
      "cell_type": "markdown",
      "metadata": {
        "id": "EpX8ZPev_sya"
      },
      "source": [
        "Vayamos construyendo nuestra __lista de capas__:\n",
        "\n",
        "__Entrenables__:  \n",
        "__* Dense__ -> Capa completamente conectada a las neuronas de la capa anterior y a la posterior  \n",
        "    Hiperparámetros asociados:     \n",
        "        * units: Number of neurons, dimensionality of the output space  \n",
        "        * activation: Activation function to use. If you don't specify anything, no activation is applied  \n",
        "        * kernel_initializer: Initializer for the kernel weights matrix.  \n",
        "        * bias_initializer: Initializer for the bias vector. (Suelen inicializarse a cero)\n",
        "        * Kernel_regularizar: Los clásicos (L1,L2,...)\n",
        "\n",
        "__Funcionales__:       \n",
        "__* Input__ -> Capa para definir la forma de la entrada (shape), que se puede pasar como input_shape  \n",
        "__* Flatten__ -> Capa que aplana (convierte su entrada en un vector)"
      ]
    },
    {
      "cell_type": "markdown",
      "metadata": {
        "id": "00rZgyjm_sya"
      },
      "source": [
        "***"
      ]
    },
    {
      "cell_type": "markdown",
      "metadata": {
        "id": "09akq_gB_sya"
      },
      "source": [
        "### Funciones Activacion"
      ]
    },
    {
      "cell_type": "markdown",
      "metadata": {
        "id": "21h5NBdP_sya"
      },
      "source": [
        "Otras funciones de activación interesantes: SELU (1.67*ELU) y Swish (también SiLU, o Sigmoid linear unit)... No entrar en pánico, vais a usar ReLU, Softmax y no-activation, y en algunos casos (quizás): sigmoid, tanh y las (x)LU (SELU, Siwsh,etc)\n",
        "\n",
        "<img src=\"./img/activation_functions.png\" alt=\"drawing\" width=\"600\"/>\n",
        "\n"
      ]
    },
    {
      "cell_type": "markdown",
      "metadata": {
        "id": "QUDEtx9t_sya"
      },
      "source": [
        "#### OPTIMIZADORES"
      ]
    },
    {
      "cell_type": "markdown",
      "metadata": {
        "id": "Y59VEV6V_sya"
      },
      "source": [
        "Y también vamos completando lista de hiperparámetros, estos asociados al \"Optimizador\"/\"Modelo\":  \n",
        "Tipo de optimizador:  \n",
        "* __SGD__, Gradient descent \"genérico\" (puedes añadirle \"momento\", es decir que a la hora de descontar el gradiente tenga en cuenta el vector medio de gradientes pasados)\n",
        "  \n",
        "\n",
        "* __Adagrad__, Hace gradient descent pero ajusta el gradiente para compensar las componentes de mayor valor numérico (es como evitar irse por las pendientes más inclinadas)... Es decir evita irse a mínimos locales al precio de enlentecer el entrenamiento.    \n",
        "\n",
        "* __RMSprop__, Versión de AdaGrad, pero considera principalmente los últimos valores del gradiente. Es decir, busca lo bueno de Adagrad reduciendo sus peligros.    \n",
        "\n",
        "* __Adam__, _Adaptative Moment Estimation_, combina RMSProp y el uso de momento. Es el rey actual (junto con sus versiones) para grandes cantidades de datos.    \n",
        "\n",
        "* __AdamW, Nadam, AdaMax__, variantes del anterior.\n",
        "\n",
        "Comparativa, donde * es malo y *** bueno (extraído del \"Hands-on Machine Learning with....\" de Aurelien Geron, 3a Edicion)\n",
        "\n",
        "<img src=\"./img/Comparativa-optimizadores.png\" alt=\"drawing\" width=\"800\"/>\n",
        "\n",
        "Keras también permite:\n",
        "__Adadelta__ _(variante de Adagrad)_, __Adafactor__ y __Ftrl__\n",
        "\n",
        "      \n",
        "Hiperparámetros Genéricos:\n",
        "Learning Rate: Coeficiente aplicado al descenso de gradiente, como en otros modelos que ya hemos visto  \n",
        "Asociados al Gradient Clipping: clipnorm, clipvalue, global_clipnorm\n",
        "\n",
        "Cada optimizador además puede tener sus propios hiperparámetros (ver: https://keras.io/api/optimizers/)\n",
        "\n",
        "\n",
        "\n",
        "\n"
      ]
    },
    {
      "cell_type": "markdown",
      "metadata": {
        "id": "Xe1otoh0_sya"
      },
      "source": [
        "### Fuciones de pérdida y métricas\n",
        "__Función de perdida__: La función a minimizar durante el entrenamiento (son las mismas que en otros modelos no Deep)  \n",
        "- Clasificación: En clases Keras -> __BinaryCrossEntropy, CategoricalCrossEntropy, SparseCategoricalCrossEntropy__  \n",
        "- Regresión: En clases Keras -> __MeanSquaredError, MeanAbsoluteError, MeanAbsolutePercentageError, CosineSimilarity__   \n",
        "\n",
        "__Métricas__:  \n",
        "- Regresión: __MAE, MSE, MAPE__ :-)  \n",
        "- Clasificación: __Accuracy, Precision, Recall, f1, AuRoC__  \n",
        "\n",
        "¿Cuál es la diferencia entre Categorical y Sparse? ¿Por qué las funciones de pérdida son diferentes a las métricas en Clasificación?"
      ]
    },
    {
      "cell_type": "markdown",
      "metadata": {
        "id": "YV1bZTAR_syb"
      },
      "source": [
        "***"
      ]
    },
    {
      "cell_type": "markdown",
      "metadata": {
        "id": "BMB6OEbB_syb"
      },
      "source": [
        "## ENTRENAMIENTO"
      ]
    },
    {
      "cell_type": "markdown",
      "metadata": {
        "id": "C5iuiiji_syb"
      },
      "source": [
        "Entrenamos el modelo. Usamos los datos de entrenamiento. El __batch_size__ es la cantidad de muestras que utiliza el SGD, y las __epochs__ son las iteraciones que realiza en el entrenamiento. (Son hiperparámetros de entrenamiento)    \n",
        "\n",
        "En una epoch se entrenan tantos batches como sea necesario para recorrer todo el dataset."
      ]
    },
    {
      "cell_type": "code",
      "execution_count": 34,
      "metadata": {
        "colab": {
          "base_uri": "https://localhost:8080/"
        },
        "id": "BxxmIPhD_syb",
        "outputId": "9002aba1-e077-445e-8c29-8ee62639ff95"
      },
      "outputs": [
        {
          "data": {
            "text/plain": [
              "781.25"
            ]
          },
          "execution_count": 34,
          "metadata": {},
          "output_type": "execute_result"
        }
      ],
      "source": [
        "50000/64"
      ]
    },
    {
      "cell_type": "code",
      "execution_count": 35,
      "metadata": {
        "colab": {
          "base_uri": "https://localhost:8080/",
          "height": 608
        },
        "id": "UVwwQ0vr_syb",
        "outputId": "5362ecf8-d201-49dd-836c-3246c566d254",
        "tags": []
      },
      "outputs": [
        {
          "name": "stdout",
          "output_type": "stream",
          "text": [
            "Fit model on training data\n",
            "Epoch 1/15\n"
          ]
        },
        {
          "name": "stderr",
          "output_type": "stream",
          "text": [
            "/Library/Frameworks/Python.framework/Versions/3.12/lib/python3.12/site-packages/keras/src/models/functional.py:225: UserWarning: The structure of `inputs` doesn't match the expected structure: ['keras_tensor_16']. Received: the structure of inputs=*\n",
            "  warnings.warn(\n"
          ]
        },
        {
          "name": "stdout",
          "output_type": "stream",
          "text": [
            "\u001b[1m782/782\u001b[0m \u001b[32m━━━━━━━━━━━━━━━━━━━━\u001b[0m\u001b[37m\u001b[0m \u001b[1m1s\u001b[0m 808us/step - accuracy: 0.6283 - loss: 1.3857 - val_accuracy: 0.8990 - val_loss: 0.4023\n",
            "Epoch 2/15\n",
            "\u001b[1m782/782\u001b[0m \u001b[32m━━━━━━━━━━━━━━━━━━━━\u001b[0m\u001b[37m\u001b[0m \u001b[1m1s\u001b[0m 749us/step - accuracy: 0.8889 - loss: 0.4063 - val_accuracy: 0.9163 - val_loss: 0.3078\n",
            "Epoch 3/15\n",
            "\u001b[1m782/782\u001b[0m \u001b[32m━━━━━━━━━━━━━━━━━━━━\u001b[0m\u001b[37m\u001b[0m \u001b[1m1s\u001b[0m 738us/step - accuracy: 0.9106 - loss: 0.3234 - val_accuracy: 0.9225 - val_loss: 0.2732\n",
            "Epoch 4/15\n",
            "\u001b[1m782/782\u001b[0m \u001b[32m━━━━━━━━━━━━━━━━━━━━\u001b[0m\u001b[37m\u001b[0m \u001b[1m1s\u001b[0m 731us/step - accuracy: 0.9189 - loss: 0.2868 - val_accuracy: 0.9300 - val_loss: 0.2455\n",
            "Epoch 5/15\n",
            "\u001b[1m782/782\u001b[0m \u001b[32m━━━━━━━━━━━━━━━━━━━━\u001b[0m\u001b[37m\u001b[0m \u001b[1m1s\u001b[0m 751us/step - accuracy: 0.9276 - loss: 0.2584 - val_accuracy: 0.9362 - val_loss: 0.2267\n",
            "Epoch 6/15\n",
            "\u001b[1m782/782\u001b[0m \u001b[32m━━━━━━━━━━━━━━━━━━━━\u001b[0m\u001b[37m\u001b[0m \u001b[1m1s\u001b[0m 737us/step - accuracy: 0.9341 - loss: 0.2338 - val_accuracy: 0.9396 - val_loss: 0.2126\n",
            "Epoch 7/15\n",
            "\u001b[1m782/782\u001b[0m \u001b[32m━━━━━━━━━━━━━━━━━━━━\u001b[0m\u001b[37m\u001b[0m \u001b[1m1s\u001b[0m 744us/step - accuracy: 0.9378 - loss: 0.2174 - val_accuracy: 0.9454 - val_loss: 0.1995\n",
            "Epoch 8/15\n",
            "\u001b[1m782/782\u001b[0m \u001b[32m━━━━━━━━━━━━━━━━━━━━\u001b[0m\u001b[37m\u001b[0m \u001b[1m1s\u001b[0m 741us/step - accuracy: 0.9428 - loss: 0.2037 - val_accuracy: 0.9479 - val_loss: 0.1906\n",
            "Epoch 9/15\n",
            "\u001b[1m782/782\u001b[0m \u001b[32m━━━━━━━━━━━━━━━━━━━━\u001b[0m\u001b[37m\u001b[0m \u001b[1m1s\u001b[0m 733us/step - accuracy: 0.9459 - loss: 0.1941 - val_accuracy: 0.9504 - val_loss: 0.1764\n",
            "Epoch 10/15\n",
            "\u001b[1m782/782\u001b[0m \u001b[32m━━━━━━━━━━━━━━━━━━━━\u001b[0m\u001b[37m\u001b[0m \u001b[1m1s\u001b[0m 736us/step - accuracy: 0.9494 - loss: 0.1781 - val_accuracy: 0.9545 - val_loss: 0.1667\n",
            "Epoch 11/15\n",
            "\u001b[1m782/782\u001b[0m \u001b[32m━━━━━━━━━━━━━━━━━━━━\u001b[0m\u001b[37m\u001b[0m \u001b[1m1s\u001b[0m 734us/step - accuracy: 0.9501 - loss: 0.1734 - val_accuracy: 0.9564 - val_loss: 0.1596\n",
            "Epoch 12/15\n",
            "\u001b[1m782/782\u001b[0m \u001b[32m━━━━━━━━━━━━━━━━━━━━\u001b[0m\u001b[37m\u001b[0m \u001b[1m1s\u001b[0m 729us/step - accuracy: 0.9558 - loss: 0.1560 - val_accuracy: 0.9587 - val_loss: 0.1530\n",
            "Epoch 13/15\n",
            "\u001b[1m782/782\u001b[0m \u001b[32m━━━━━━━━━━━━━━━━━━━━\u001b[0m\u001b[37m\u001b[0m \u001b[1m1s\u001b[0m 733us/step - accuracy: 0.9578 - loss: 0.1500 - val_accuracy: 0.9595 - val_loss: 0.1473\n",
            "Epoch 14/15\n",
            "\u001b[1m782/782\u001b[0m \u001b[32m━━━━━━━━━━━━━━━━━━━━\u001b[0m\u001b[37m\u001b[0m \u001b[1m1s\u001b[0m 785us/step - accuracy: 0.9611 - loss: 0.1400 - val_accuracy: 0.9607 - val_loss: 0.1440\n",
            "Epoch 15/15\n",
            "\u001b[1m782/782\u001b[0m \u001b[32m━━━━━━━━━━━━━━━━━━━━\u001b[0m\u001b[37m\u001b[0m \u001b[1m1s\u001b[0m 769us/step - accuracy: 0.9615 - loss: 0.1359 - val_accuracy: 0.9624 - val_loss: 0.1377\n"
          ]
        },
        {
          "data": {
            "text/plain": [
              "'\\nEn el entreanamiento solo hay que fijarse que el loss va para abajo, es bueno.\\nSi vemos que ya no baja mas, no serán necesarias tantas epochs.\\nImprimera tantas lineas como epochs hayamos puesto\\n\\nTampoco usamos el class_weight, que le da más peso a las clases con pocas muestras\\nUtil para datasets desbalanceados.\\n\\nEl loss que muestra es el categoricalcrossentropy\\n'"
            ]
          },
          "execution_count": 35,
          "metadata": {},
          "output_type": "execute_result"
        }
      ],
      "source": [
        "# Entrenamos el modelo con un batch_size de 64 imágenes por cada iteración, 15 epochs y especificando cuál es el conjunto de validación.\n",
        "print(\"Fit model on training data\")\n",
        "history = model.fit(\n",
        "    X_train,\n",
        "    y_train,\n",
        "    batch_size=64, # numero de muestras empleadas en el entrenamiento de SGD\n",
        "    epochs=15, # 1 por defecto. Insuficiente. Numero de vueltas del backpropagation\n",
        "    # We pass some validation for\n",
        "    # monitoring validation loss and metrics\n",
        "    # at the end of each epoch\n",
        "    # En vez de validation data podemos usar el argumento validation_split=0.1\n",
        "    validation_data=(X_val, y_val)\n",
        ")\n",
        "'''\n",
        "En el entreanamiento solo hay que fijarse que el loss va para abajo, es bueno.\n",
        "Si vemos que ya no baja mas, no serán necesarias tantas epochs.\n",
        "Imprimera tantas lineas como epochs hayamos puesto\n",
        "\n",
        "Tampoco usamos el class_weight, que le da más peso a las clases con pocas muestras\n",
        "Util para datasets desbalanceados.\n",
        "\n",
        "El loss que muestra es el categoricalcrossentropy\n",
        "'''\n"
      ]
    },
    {
      "cell_type": "markdown",
      "metadata": {
        "id": "jAoNrMvF_syb"
      },
      "source": [
        "**Podemos reentrenar el modelo. No empieza de nuevo, sino que retoma el entrenamiento anterior.**"
      ]
    },
    {
      "cell_type": "code",
      "execution_count": 36,
      "metadata": {
        "colab": {
          "base_uri": "https://localhost:8080/"
        },
        "id": "Ff_OkRGS_syb",
        "outputId": "fbe342c2-c2c4-4661-bd74-bce755d9be8c"
      },
      "outputs": [
        {
          "name": "stdout",
          "output_type": "stream",
          "text": [
            "Epoch 1/15\n",
            "\u001b[1m782/782\u001b[0m \u001b[32m━━━━━━━━━━━━━━━━━━━━\u001b[0m\u001b[37m\u001b[0m \u001b[1m1s\u001b[0m 772us/step - accuracy: 0.9647 - loss: 0.1272 - val_accuracy: 0.9632 - val_loss: 0.1316\n",
            "Epoch 2/15\n",
            "\u001b[1m782/782\u001b[0m \u001b[32m━━━━━━━━━━━━━━━━━━━━\u001b[0m\u001b[37m\u001b[0m \u001b[1m1s\u001b[0m 753us/step - accuracy: 0.9649 - loss: 0.1238 - val_accuracy: 0.9652 - val_loss: 0.1272\n",
            "Epoch 3/15\n",
            "\u001b[1m782/782\u001b[0m \u001b[32m━━━━━━━━━━━━━━━━━━━━\u001b[0m\u001b[37m\u001b[0m \u001b[1m1s\u001b[0m 745us/step - accuracy: 0.9660 - loss: 0.1179 - val_accuracy: 0.9658 - val_loss: 0.1230\n",
            "Epoch 4/15\n",
            "\u001b[1m782/782\u001b[0m \u001b[32m━━━━━━━━━━━━━━━━━━━━\u001b[0m\u001b[37m\u001b[0m \u001b[1m1s\u001b[0m 756us/step - accuracy: 0.9685 - loss: 0.1101 - val_accuracy: 0.9666 - val_loss: 0.1206\n",
            "Epoch 5/15\n",
            "\u001b[1m782/782\u001b[0m \u001b[32m━━━━━━━━━━━━━━━━━━━━\u001b[0m\u001b[37m\u001b[0m \u001b[1m1s\u001b[0m 748us/step - accuracy: 0.9687 - loss: 0.1094 - val_accuracy: 0.9679 - val_loss: 0.1181\n",
            "Epoch 6/15\n",
            "\u001b[1m782/782\u001b[0m \u001b[32m━━━━━━━━━━━━━━━━━━━━\u001b[0m\u001b[37m\u001b[0m \u001b[1m1s\u001b[0m 778us/step - accuracy: 0.9727 - loss: 0.1019 - val_accuracy: 0.9668 - val_loss: 0.1199\n",
            "Epoch 7/15\n",
            "\u001b[1m782/782\u001b[0m \u001b[32m━━━━━━━━━━━━━━━━━━━━\u001b[0m\u001b[37m\u001b[0m \u001b[1m1s\u001b[0m 800us/step - accuracy: 0.9725 - loss: 0.0996 - val_accuracy: 0.9681 - val_loss: 0.1119\n",
            "Epoch 8/15\n",
            "\u001b[1m782/782\u001b[0m \u001b[32m━━━━━━━━━━━━━━━━━━━━\u001b[0m\u001b[37m\u001b[0m \u001b[1m1s\u001b[0m 809us/step - accuracy: 0.9745 - loss: 0.0957 - val_accuracy: 0.9690 - val_loss: 0.1102\n",
            "Epoch 9/15\n",
            "\u001b[1m782/782\u001b[0m \u001b[32m━━━━━━━━━━━━━━━━━━━━\u001b[0m\u001b[37m\u001b[0m \u001b[1m1s\u001b[0m 793us/step - accuracy: 0.9747 - loss: 0.0919 - val_accuracy: 0.9691 - val_loss: 0.1088\n",
            "Epoch 10/15\n",
            "\u001b[1m782/782\u001b[0m \u001b[32m━━━━━━━━━━━━━━━━━━━━\u001b[0m\u001b[37m\u001b[0m \u001b[1m1s\u001b[0m 840us/step - accuracy: 0.9770 - loss: 0.0843 - val_accuracy: 0.9705 - val_loss: 0.1048\n",
            "Epoch 11/15\n",
            "\u001b[1m782/782\u001b[0m \u001b[32m━━━━━━━━━━━━━━━━━━━━\u001b[0m\u001b[37m\u001b[0m \u001b[1m1s\u001b[0m 892us/step - accuracy: 0.9779 - loss: 0.0837 - val_accuracy: 0.9706 - val_loss: 0.1039\n",
            "Epoch 12/15\n",
            "\u001b[1m782/782\u001b[0m \u001b[32m━━━━━━━━━━━━━━━━━━━━\u001b[0m\u001b[37m\u001b[0m \u001b[1m1s\u001b[0m 872us/step - accuracy: 0.9793 - loss: 0.0799 - val_accuracy: 0.9712 - val_loss: 0.1025\n",
            "Epoch 13/15\n",
            "\u001b[1m782/782\u001b[0m \u001b[32m━━━━━━━━━━━━━━━━━━━━\u001b[0m\u001b[37m\u001b[0m \u001b[1m1s\u001b[0m 739us/step - accuracy: 0.9789 - loss: 0.0783 - val_accuracy: 0.9721 - val_loss: 0.1002\n",
            "Epoch 14/15\n",
            "\u001b[1m782/782\u001b[0m \u001b[32m━━━━━━━━━━━━━━━━━━━━\u001b[0m\u001b[37m\u001b[0m \u001b[1m1s\u001b[0m 754us/step - accuracy: 0.9799 - loss: 0.0729 - val_accuracy: 0.9720 - val_loss: 0.0992\n",
            "Epoch 15/15\n",
            "\u001b[1m782/782\u001b[0m \u001b[32m━━━━━━━━━━━━━━━━━━━━\u001b[0m\u001b[37m\u001b[0m \u001b[1m1s\u001b[0m 747us/step - accuracy: 0.9809 - loss: 0.0721 - val_accuracy: 0.9727 - val_loss: 0.0977\n"
          ]
        },
        {
          "data": {
            "text/plain": [
              "<keras.src.callbacks.history.History at 0x318311490>"
            ]
          },
          "execution_count": 36,
          "metadata": {},
          "output_type": "execute_result"
        }
      ],
      "source": [
        "model.fit(\n",
        "    X_train,\n",
        "    y_train,\n",
        "    batch_size=64,\n",
        "    epochs=15,\n",
        "    validation_data=(X_val, y_val)\n",
        ")"
      ]
    },
    {
      "cell_type": "markdown",
      "metadata": {
        "id": "aziw9oNx_syc"
      },
      "source": [
        "Veamos el histórico del entrenamiento, para poder representarlo posteriormente."
      ]
    },
    {
      "cell_type": "code",
      "execution_count": 37,
      "metadata": {
        "colab": {
          "base_uri": "https://localhost:8080/"
        },
        "id": "VHzbSoD4_syc",
        "outputId": "8c161596-2b4b-44ff-f7fe-00b1f09738dc"
      },
      "outputs": [
        {
          "name": "stdout",
          "output_type": "stream",
          "text": [
            "{'verbose': 'auto', 'epochs': 15, 'steps': 782}\n",
            "[0, 1, 2, 3, 4, 5, 6, 7, 8, 9, 10, 11, 12, 13, 14]\n"
          ]
        },
        {
          "data": {
            "text/plain": [
              "{'accuracy': [0.7793999910354614,\n",
              "  0.8944600224494934,\n",
              "  0.9116799831390381,\n",
              "  0.9212999939918518,\n",
              "  0.9283999800682068,\n",
              "  0.9345999956130981,\n",
              "  0.9392600059509277,\n",
              "  0.9431800246238708,\n",
              "  0.9467800259590149,\n",
              "  0.9498599767684937,\n",
              "  0.9530400037765503,\n",
              "  0.9554399847984314,\n",
              "  0.9576600193977356,\n",
              "  0.9597200155258179,\n",
              "  0.9616000056266785],\n",
              " 'loss': [0.8949589729309082,\n",
              "  0.3804907500743866,\n",
              "  0.31464648246765137,\n",
              "  0.27868321537971497,\n",
              "  0.25322169065475464,\n",
              "  0.23272843658924103,\n",
              "  0.21572840213775635,\n",
              "  0.20084813237190247,\n",
              "  0.18834535777568817,\n",
              "  0.17655912041664124,\n",
              "  0.16659945249557495,\n",
              "  0.157136932015419,\n",
              "  0.1486581414937973,\n",
              "  0.14105398952960968,\n",
              "  0.13391058146953583],\n",
              " 'val_accuracy': [0.8989999890327454,\n",
              "  0.9162999987602234,\n",
              "  0.9225000143051147,\n",
              "  0.9300000071525574,\n",
              "  0.9362000226974487,\n",
              "  0.9395999908447266,\n",
              "  0.9453999996185303,\n",
              "  0.9478999972343445,\n",
              "  0.9503999948501587,\n",
              "  0.9545000195503235,\n",
              "  0.9563999772071838,\n",
              "  0.9587000012397766,\n",
              "  0.9595000147819519,\n",
              "  0.9606999754905701,\n",
              "  0.9624000191688538],\n",
              " 'val_loss': [0.4023224413394928,\n",
              "  0.30783262848854065,\n",
              "  0.2732302248477936,\n",
              "  0.2454770803451538,\n",
              "  0.22669431567192078,\n",
              "  0.21256166696548462,\n",
              "  0.199454665184021,\n",
              "  0.1906430870294571,\n",
              "  0.17636796832084656,\n",
              "  0.16669027507305145,\n",
              "  0.1595539003610611,\n",
              "  0.15296553075313568,\n",
              "  0.14729967713356018,\n",
              "  0.14396455883979797,\n",
              "  0.1376533955335617]}"
            ]
          },
          "execution_count": 37,
          "metadata": {},
          "output_type": "execute_result"
        }
      ],
      "source": [
        "print(history.params)\n",
        "print(history.epoch)\n",
        "history.history"
      ]
    },
    {
      "cell_type": "code",
      "execution_count": 38,
      "metadata": {
        "colab": {
          "base_uri": "https://localhost:8080/",
          "height": 451
        },
        "id": "2v3CaLig_syc",
        "outputId": "95ac1f5c-7f3b-442a-a758-8ab6e6183610"
      },
      "outputs": [
        {
          "data": {
            "image/png": "[encoded data removed]",
            "text/plain": [
              "<Figure size 800x500 with 1 Axes>"
            ]
          },
          "metadata": {},
          "output_type": "display_data"
        }
      ],
      "source": [
        "import pandas as pd\n",
        "import matplotlib.pyplot as plt\n",
        "\n",
        "# Podemos ver como evoluciona el entrenamiento, en funcion de los epochs\n",
        "# Validacion y training estan muy cerca, no hay overfitting!\n",
        "# Todavia no ha acabado de coverger ya que el loss en validacion sigue bajando,\n",
        "pd.DataFrame(history.history).plot(figsize=(8, 5))\n",
        "plt.grid(True)\n",
        "plt.gca().set_ylim(0, 1) # set the vertical range to [0-1]\n",
        "plt.show()"
      ]
    },
    {
      "cell_type": "markdown",
      "metadata": {
        "id": "dlWNeIsO_syc"
      },
      "source": [
        "Si el modelo no ha ido bien, prueba a cambiar el learning rate, cambia de optimizador y después prueba a cambiar capas, neuronas y funciones de activación.\n",
        "\n",
        "\n",
        "***\n"
      ]
    },
    {
      "cell_type": "markdown",
      "metadata": {
        "id": "HlPmwc3Z_syc"
      },
      "source": [
        "### Evaluación con test"
      ]
    },
    {
      "cell_type": "markdown",
      "metadata": {
        "id": "q1dvQlIi_syc"
      },
      "source": [
        "\n",
        "Ya tenemos el modelo entrenado. Probémoslo con test"
      ]
    },
    {
      "cell_type": "code",
      "execution_count": 39,
      "metadata": {
        "colab": {
          "base_uri": "https://localhost:8080/"
        },
        "id": "LMnJ0dIU_syc",
        "outputId": "013bf425-1a2f-4a4f-ba46-0b06562d12d6",
        "tags": []
      },
      "outputs": [
        {
          "name": "stdout",
          "output_type": "stream",
          "text": [
            "Evaluate on test data\n",
            "\u001b[1m313/313\u001b[0m \u001b[32m━━━━━━━━━━━━━━━━━━━━\u001b[0m\u001b[37m\u001b[0m \u001b[1m0s\u001b[0m 368us/step - accuracy: 0.9677 - loss: 0.1139\n",
            "test loss, test acc: [0.09539717435836792, 0.9725000262260437]\n"
          ]
        }
      ],
      "source": [
        "# Obtenemos el \"score\" a partir del conjunto de test\n",
        "# Evaluate the model on the test data using `evaluate`\n",
        "print(\"Evaluate on test data\")\n",
        "\n",
        "# Metodo evaluate para que nos de el error vs las metricas elegidas en la funcion compile\n",
        "results = model.evaluate(X_test, y_test)\n",
        "print(\"test loss, test acc:\", results)"
      ]
    },
    {
      "cell_type": "code",
      "execution_count": 40,
      "metadata": {
        "colab": {
          "base_uri": "https://localhost:8080/",
          "height": 485
        },
        "id": "2r0T5J7a_syc",
        "outputId": "cc2e5fa2-d7ec-4cf2-8096-4cef7ad6aec6"
      },
      "outputs": [
        {
          "data": {
            "image/png": "[encoded data removed]",
            "text/plain": [
              "<Figure size 640x480 with 1 Axes>"
            ]
          },
          "metadata": {},
          "output_type": "display_data"
        }
      ],
      "source": [
        "# Cogemos el primero\n",
        "plt.imshow(X_test[0].reshape(28,28), cmap='Greys');"
      ]
    },
    {
      "cell_type": "code",
      "execution_count": 41,
      "metadata": {
        "colab": {
          "base_uri": "https://localhost:8080/"
        },
        "id": "xzcIgONZ_syd",
        "outputId": "a75082c2-a9db-4ffc-d167-bdfdb0f9ee22",
        "scrolled": true,
        "tags": []
      },
      "outputs": [
        {
          "name": "stdout",
          "output_type": "stream",
          "text": [
            "\u001b[1m1/1\u001b[0m \u001b[32m━━━━━━━━━━━━━━━━━━━━\u001b[0m\u001b[37m\u001b[0m \u001b[1m0s\u001b[0m 18ms/step\n",
            "predictions shape: (1, 10)\n",
            "[0.    0.    0.    0.002 0.    0.    0.    0.998 0.    0.   ]\n",
            "7\n"
          ]
        },
        {
          "name": "stderr",
          "output_type": "stream",
          "text": [
            "/Library/Frameworks/Python.framework/Versions/3.12/lib/python3.12/site-packages/keras/src/models/functional.py:225: UserWarning: The structure of `inputs` doesn't match the expected structure: ['keras_tensor_16']. Received: the structure of inputs=*\n",
            "  warnings.warn(\n"
          ]
        }
      ],
      "source": [
        "'''\n",
        "Ojo aqui viene slicing xq presupone que le entran varios inputs\n",
        "Nos da las probabilidades de pertenecer a una clase u otra.\n",
        "'''\n",
        "predictions = model.predict(X_test[:1]).round(3)\n",
        "print(\"predictions shape:\", predictions.shape)\n",
        "print(predictions[0])\n",
        "print(np.argmax(predictions[0]))"
      ]
    },
    {
      "cell_type": "code",
      "execution_count": 42,
      "metadata": {
        "colab": {
          "base_uri": "https://localhost:8080/"
        },
        "id": "FmVFBXXx_syd",
        "outputId": "e67ea9b1-5b4c-4153-cf73-78da598fd8e3"
      },
      "outputs": [
        {
          "data": {
            "text/plain": [
              "0.998"
            ]
          },
          "execution_count": 42,
          "metadata": {},
          "output_type": "execute_result"
        }
      ],
      "source": [
        "predictions.max()"
      ]
    },
    {
      "cell_type": "code",
      "execution_count": 43,
      "metadata": {
        "colab": {
          "base_uri": "https://localhost:8080/"
        },
        "id": "5o6i2tMK_syd",
        "outputId": "95be1d95-ad16-45fa-d91d-9ae5000c090c"
      },
      "outputs": [
        {
          "data": {
            "text/plain": [
              "7"
            ]
          },
          "execution_count": 43,
          "metadata": {},
          "output_type": "execute_result"
        }
      ],
      "source": [
        "predictions.argmax()"
      ]
    },
    {
      "cell_type": "code",
      "execution_count": 44,
      "metadata": {
        "colab": {
          "base_uri": "https://localhost:8080/"
        },
        "id": "7IyCBaR__syd",
        "outputId": "2849a877-6fe7-4a65-fcad-1bb581243687"
      },
      "outputs": [
        {
          "name": "stdout",
          "output_type": "stream",
          "text": [
            "\u001b[1m313/313\u001b[0m \u001b[32m━━━━━━━━━━━━━━━━━━━━\u001b[0m\u001b[37m\u001b[0m \u001b[1m0s\u001b[0m 346us/step\n"
          ]
        },
        {
          "data": {
            "text/plain": [
              "[7, 2, 1, 0, 4]"
            ]
          },
          "execution_count": 44,
          "metadata": {},
          "output_type": "execute_result"
        }
      ],
      "source": [
        "y_pred = [np.argmax(predictions) for predictions in model.predict(X_test)]\n",
        "y_pred[0:5]"
      ]
    },
    {
      "cell_type": "code",
      "execution_count": 45,
      "metadata": {
        "colab": {
          "base_uri": "https://localhost:8080/"
        },
        "id": "vVAqXHX3_syd",
        "outputId": "e3516366-c014-4b6d-ef86-dc2bce4fa74c"
      },
      "outputs": [
        {
          "name": "stdout",
          "output_type": "stream",
          "text": [
            "              precision    recall  f1-score   support\n",
            "\n",
            "         0.0       0.98      0.99      0.98       980\n",
            "         1.0       0.98      0.99      0.99      1135\n",
            "         2.0       0.97      0.97      0.97      1032\n",
            "         3.0       0.96      0.98      0.97      1010\n",
            "         4.0       0.98      0.97      0.97       982\n",
            "         5.0       0.98      0.96      0.97       892\n",
            "         6.0       0.97      0.97      0.97       958\n",
            "         7.0       0.97      0.97      0.97      1028\n",
            "         8.0       0.97      0.96      0.97       974\n",
            "         9.0       0.97      0.96      0.97      1009\n",
            "\n",
            "    accuracy                           0.97     10000\n",
            "   macro avg       0.97      0.97      0.97     10000\n",
            "weighted avg       0.97      0.97      0.97     10000\n",
            "\n"
          ]
        }
      ],
      "source": [
        "from sklearn.metrics import classification_report\n",
        "print(classification_report(y_test, y_pred))"
      ]
    },
    {
      "cell_type": "markdown",
      "metadata": {
        "id": "pcRbf2e__syd"
      },
      "source": [
        "***"
      ]
    },
    {
      "cell_type": "markdown",
      "metadata": {
        "id": "P4jEYUp9_syd"
      },
      "source": [
        "### Problema de regresión\n",
        "Veamos un ejemplo de cómo aplicar una red neuronal de TensorFlow a un problema de regresión."
      ]
    },
    {
      "cell_type": "code",
      "execution_count": 46,
      "metadata": {
        "colab": {
          "base_uri": "https://localhost:8080/",
          "height": 206
        },
        "id": "wH5tCZwj_syd",
        "outputId": "189353db-b4b5-476e-c0af-708a359d7424"
      },
      "outputs": [
        {
          "data": {
            "text/html": [
              "<div>\n",
              "<style scoped>\n",
              "    .dataframe tbody tr th:only-of-type {\n",
              "        vertical-align: middle;\n",
              "    }\n",
              "\n",
              "    .dataframe tbody tr th {\n",
              "        vertical-align: top;\n",
              "    }\n",
              "\n",
              "    .dataframe thead th {\n",
              "        text-align: right;\n",
              "    }\n",
              "</style>\n",
              "<table border=\"1\" class=\"dataframe\">\n",
              "  <thead>\n",
              "    <tr style=\"text-align: right;\">\n",
              "      <th></th>\n",
              "      <th>MedInc</th>\n",
              "      <th>HouseAge</th>\n",
              "      <th>AveRooms</th>\n",
              "      <th>AveBedrms</th>\n",
              "      <th>Population</th>\n",
              "      <th>AveOccup</th>\n",
              "      <th>Latitude</th>\n",
              "      <th>Longitude</th>\n",
              "      <th>target</th>\n",
              "    </tr>\n",
              "  </thead>\n",
              "  <tbody>\n",
              "    <tr>\n",
              "      <th>0</th>\n",
              "      <td>8.3252</td>\n",
              "      <td>41.0</td>\n",
              "      <td>6.984127</td>\n",
              "      <td>1.023810</td>\n",
              "      <td>322.0</td>\n",
              "      <td>2.555556</td>\n",
              "      <td>37.88</td>\n",
              "      <td>-122.23</td>\n",
              "      <td>4.526</td>\n",
              "    </tr>\n",
              "    <tr>\n",
              "      <th>1</th>\n",
              "      <td>8.3014</td>\n",
              "      <td>21.0</td>\n",
              "      <td>6.238137</td>\n",
              "      <td>0.971880</td>\n",
              "      <td>2401.0</td>\n",
              "      <td>2.109842</td>\n",
              "      <td>37.86</td>\n",
              "      <td>-122.22</td>\n",
              "      <td>3.585</td>\n",
              "    </tr>\n",
              "    <tr>\n",
              "      <th>2</th>\n",
              "      <td>7.2574</td>\n",
              "      <td>52.0</td>\n",
              "      <td>8.288136</td>\n",
              "      <td>1.073446</td>\n",
              "      <td>496.0</td>\n",
              "      <td>2.802260</td>\n",
              "      <td>37.85</td>\n",
              "      <td>-122.24</td>\n",
              "      <td>3.521</td>\n",
              "    </tr>\n",
              "    <tr>\n",
              "      <th>3</th>\n",
              "      <td>5.6431</td>\n",
              "      <td>52.0</td>\n",
              "      <td>5.817352</td>\n",
              "      <td>1.073059</td>\n",
              "      <td>558.0</td>\n",
              "      <td>2.547945</td>\n",
              "      <td>37.85</td>\n",
              "      <td>-122.25</td>\n",
              "      <td>3.413</td>\n",
              "    </tr>\n",
              "    <tr>\n",
              "      <th>4</th>\n",
              "      <td>3.8462</td>\n",
              "      <td>52.0</td>\n",
              "      <td>6.281853</td>\n",
              "      <td>1.081081</td>\n",
              "      <td>565.0</td>\n",
              "      <td>2.181467</td>\n",
              "      <td>37.85</td>\n",
              "      <td>-122.25</td>\n",
              "      <td>3.422</td>\n",
              "    </tr>\n",
              "  </tbody>\n",
              "</table>\n",
              "</div>"
            ],
            "text/plain": [
              "   MedInc  HouseAge  AveRooms  AveBedrms  Population  AveOccup  Latitude  \\\n",
              "0  8.3252      41.0  6.984127   1.023810       322.0  2.555556     37.88   \n",
              "1  8.3014      21.0  6.238137   0.971880      2401.0  2.109842     37.86   \n",
              "2  7.2574      52.0  8.288136   1.073446       496.0  2.802260     37.85   \n",
              "3  5.6431      52.0  5.817352   1.073059       558.0  2.547945     37.85   \n",
              "4  3.8462      52.0  6.281853   1.081081       565.0  2.181467     37.85   \n",
              "\n",
              "   Longitude  target  \n",
              "0    -122.23   4.526  \n",
              "1    -122.22   3.585  \n",
              "2    -122.24   3.521  \n",
              "3    -122.25   3.413  \n",
              "4    -122.25   3.422  "
            ]
          },
          "execution_count": 46,
          "metadata": {},
          "output_type": "execute_result"
        }
      ],
      "source": [
        "# Cargamos datos\n",
        "from sklearn.datasets import fetch_california_housing\n",
        "from sklearn.model_selection import train_test_split\n",
        "from sklearn.preprocessing import StandardScaler\n",
        "\n",
        "housing = fetch_california_housing()\n",
        "df = pd.DataFrame(housing.data, columns = housing.feature_names)\n",
        "df['target'] = housing['target']\n",
        "df.head()"
      ]
    },
    {
      "cell_type": "markdown",
      "metadata": {
        "id": "lsqJHkTY_sye"
      },
      "source": [
        "Divimos en train, test y validation"
      ]
    },
    {
      "cell_type": "code",
      "execution_count": 47,
      "metadata": {
        "id": "ZrhAPX3b_sye"
      },
      "outputs": [],
      "source": [
        "X_train_full, X_test, y_train_full, y_test = train_test_split(housing.data,\n",
        "                                                              housing.target)\n",
        "\n",
        "X_train, X_valid, y_train, y_valid = train_test_split(X_train_full,\n",
        "                                                      y_train_full)\n",
        "\n",
        "scaler = StandardScaler()\n",
        "X_train = scaler.fit_transform(X_train)\n",
        "X_valid = scaler.transform(X_valid)\n",
        "X_test = scaler.transform(X_test)"
      ]
    },
    {
      "cell_type": "code",
      "execution_count": 48,
      "metadata": {
        "colab": {
          "base_uri": "https://localhost:8080/"
        },
        "id": "oPNca_NF_sye",
        "outputId": "c694dee6-757c-4ea9-ca07-d5dd95afd1de"
      },
      "outputs": [
        {
          "data": {
            "text/plain": [
              "(11610, 8)"
            ]
          },
          "execution_count": 48,
          "metadata": {},
          "output_type": "execute_result"
        }
      ],
      "source": [
        "X_train.shape"
      ]
    },
    {
      "cell_type": "markdown",
      "metadata": {
        "id": "YMFjzrfu_sye"
      },
      "source": [
        "Montamos el modelo. Simplemente se compondrá de una hidden layer, a la que le configuramos una capa previa de entrada de 8 neuronas (las features).\n",
        "\n",
        "Se trata de un modelo de regresión, por lo que la capa de salida es una única neurona.\n",
        "     \n",
        "Vamos a configurar una red como esta:  \n",
        "<img src=\"./img/mlp_regresion.png\" alt=\"drawing\" width=\"300\"/>"
      ]
    },
    {
      "cell_type": "code",
      "execution_count": 49,
      "metadata": {
        "colab": {
          "base_uri": "https://localhost:8080/"
        },
        "id": "1LMNWYWU_sye",
        "outputId": "318f2c25-7bf2-4152-9a64-bad371840be5"
      },
      "outputs": [
        {
          "name": "stdout",
          "output_type": "stream",
          "text": [
            "Epoch 1/20\n",
            "\u001b[1m289/363\u001b[0m \u001b[32m━━━━━━━━━━━━━━━\u001b[0m\u001b[37m━━━━━\u001b[0m \u001b[1m0s\u001b[0m 183us/step - RootMeanSquaredError: 1.0502 - loss: 1.1337"
          ]
        },
        {
          "name": "stderr",
          "output_type": "stream",
          "text": [
            "/Library/Frameworks/Python.framework/Versions/3.12/lib/python3.12/site-packages/keras/src/layers/core/dense.py:87: UserWarning: Do not pass an `input_shape`/`input_dim` argument to a layer. When using Sequential models, prefer using an `Input(shape)` object as the first layer in the model instead.\n",
            "  super().__init__(activity_regularizer=activity_regularizer, **kwargs)\n"
          ]
        },
        {
          "name": "stdout",
          "output_type": "stream",
          "text": [
            "\u001b[1m363/363\u001b[0m \u001b[32m━━━━━━━━━━━━━━━━━━━━\u001b[0m\u001b[37m\u001b[0m \u001b[1m0s\u001b[0m 359us/step - RootMeanSquaredError: 1.0180 - loss: 1.0646 - val_RootMeanSquaredError: 0.7720 - val_loss: 0.5959\n",
            "Epoch 2/20\n",
            "\u001b[1m363/363\u001b[0m \u001b[32m━━━━━━━━━━━━━━━━━━━━\u001b[0m\u001b[37m\u001b[0m \u001b[1m0s\u001b[0m 299us/step - RootMeanSquaredError: 0.8474 - loss: 0.7248 - val_RootMeanSquaredError: 0.7238 - val_loss: 0.5239\n",
            "Epoch 3/20\n",
            "\u001b[1m363/363\u001b[0m \u001b[32m━━━━━━━━━━━━━━━━━━━━\u001b[0m\u001b[37m\u001b[0m \u001b[1m0s\u001b[0m 243us/step - RootMeanSquaredError: 0.7165 - loss: 0.5139 - val_RootMeanSquaredError: 0.7027 - val_loss: 0.4938\n",
            "Epoch 4/20\n",
            "\u001b[1m363/363\u001b[0m \u001b[32m━━━━━━━━━━━━━━━━━━━━\u001b[0m\u001b[37m\u001b[0m \u001b[1m0s\u001b[0m 238us/step - RootMeanSquaredError: 0.6767 - loss: 0.4582 - val_RootMeanSquaredError: 0.7049 - val_loss: 0.4969\n",
            "Epoch 5/20\n",
            "\u001b[1m363/363\u001b[0m \u001b[32m━━━━━━━━━━━━━━━━━━━━\u001b[0m\u001b[37m\u001b[0m \u001b[1m0s\u001b[0m 237us/step - RootMeanSquaredError: 0.6642 - loss: 0.4413 - val_RootMeanSquaredError: 0.6680 - val_loss: 0.4462\n",
            "Epoch 6/20\n",
            "\u001b[1m363/363\u001b[0m \u001b[32m━━━━━━━━━━━━━━━━━━━━\u001b[0m\u001b[37m\u001b[0m \u001b[1m0s\u001b[0m 246us/step - RootMeanSquaredError: 0.6536 - loss: 0.4273 - val_RootMeanSquaredError: 0.6636 - val_loss: 0.4404\n",
            "Epoch 7/20\n",
            "\u001b[1m363/363\u001b[0m \u001b[32m━━━━━━━━━━━━━━━━━━━━\u001b[0m\u001b[37m\u001b[0m \u001b[1m0s\u001b[0m 237us/step - RootMeanSquaredError: 0.6497 - loss: 0.4223 - val_RootMeanSquaredError: 0.6600 - val_loss: 0.4356\n",
            "Epoch 8/20\n",
            "\u001b[1m363/363\u001b[0m \u001b[32m━━━━━━━━━━━━━━━━━━━━\u001b[0m\u001b[37m\u001b[0m \u001b[1m0s\u001b[0m 243us/step - RootMeanSquaredError: 0.6619 - loss: 0.4386 - val_RootMeanSquaredError: 0.6534 - val_loss: 0.4269\n",
            "Epoch 9/20\n",
            "\u001b[1m363/363\u001b[0m \u001b[32m━━━━━━━━━━━━━━━━━━━━\u001b[0m\u001b[37m\u001b[0m \u001b[1m0s\u001b[0m 238us/step - RootMeanSquaredError: 0.6533 - loss: 0.4270 - val_RootMeanSquaredError: 0.6469 - val_loss: 0.4184\n",
            "Epoch 10/20\n",
            "\u001b[1m363/363\u001b[0m \u001b[32m━━━━━━━━━━━━━━━━━━━━\u001b[0m\u001b[37m\u001b[0m \u001b[1m0s\u001b[0m 239us/step - RootMeanSquaredError: 0.6298 - loss: 0.3967 - val_RootMeanSquaredError: 0.6440 - val_loss: 0.4147\n",
            "Epoch 11/20\n",
            "\u001b[1m363/363\u001b[0m \u001b[32m━━━━━━━━━━━━━━━━━━━━\u001b[0m\u001b[37m\u001b[0m \u001b[1m0s\u001b[0m 240us/step - RootMeanSquaredError: 0.6414 - loss: 0.4116 - val_RootMeanSquaredError: 0.6483 - val_loss: 0.4203\n",
            "Epoch 12/20\n",
            "\u001b[1m363/363\u001b[0m \u001b[32m━━━━━━━━━━━━━━━━━━━━\u001b[0m\u001b[37m\u001b[0m \u001b[1m0s\u001b[0m 238us/step - RootMeanSquaredError: 0.6365 - loss: 0.4052 - val_RootMeanSquaredError: 0.6571 - val_loss: 0.4317\n",
            "Epoch 13/20\n",
            "\u001b[1m363/363\u001b[0m \u001b[32m━━━━━━━━━━━━━━━━━━━━\u001b[0m\u001b[37m\u001b[0m \u001b[1m0s\u001b[0m 239us/step - RootMeanSquaredError: 0.6365 - loss: 0.4056 - val_RootMeanSquaredError: 0.6438 - val_loss: 0.4145\n",
            "Epoch 14/20\n",
            "\u001b[1m363/363\u001b[0m \u001b[32m━━━━━━━━━━━━━━━━━━━━\u001b[0m\u001b[37m\u001b[0m \u001b[1m0s\u001b[0m 235us/step - RootMeanSquaredError: 0.6254 - loss: 0.3913 - val_RootMeanSquaredError: 0.6306 - val_loss: 0.3977\n",
            "Epoch 15/20\n",
            "\u001b[1m363/363\u001b[0m \u001b[32m━━━━━━━━━━━━━━━━━━━━\u001b[0m\u001b[37m\u001b[0m \u001b[1m0s\u001b[0m 250us/step - RootMeanSquaredError: 0.6331 - loss: 0.4009 - val_RootMeanSquaredError: 0.6410 - val_loss: 0.4108\n",
            "Epoch 16/20\n",
            "\u001b[1m363/363\u001b[0m \u001b[32m━━━━━━━━━━━━━━━━━━━━\u001b[0m\u001b[37m\u001b[0m \u001b[1m0s\u001b[0m 242us/step - RootMeanSquaredError: 0.6277 - loss: 0.3942 - val_RootMeanSquaredError: 0.6241 - val_loss: 0.3895\n",
            "Epoch 17/20\n",
            "\u001b[1m363/363\u001b[0m \u001b[32m━━━━━━━━━━━━━━━━━━━━\u001b[0m\u001b[37m\u001b[0m \u001b[1m0s\u001b[0m 238us/step - RootMeanSquaredError: 0.6184 - loss: 0.3827 - val_RootMeanSquaredError: 0.6240 - val_loss: 0.3894\n",
            "Epoch 18/20\n",
            "\u001b[1m363/363\u001b[0m \u001b[32m━━━━━━━━━━━━━━━━━━━━\u001b[0m\u001b[37m\u001b[0m \u001b[1m0s\u001b[0m 247us/step - RootMeanSquaredError: 0.6284 - loss: 0.3954 - val_RootMeanSquaredError: 0.6573 - val_loss: 0.4321\n",
            "Epoch 19/20\n",
            "\u001b[1m363/363\u001b[0m \u001b[32m━━━━━━━━━━━━━━━━━━━━\u001b[0m\u001b[37m\u001b[0m \u001b[1m0s\u001b[0m 242us/step - RootMeanSquaredError: 0.6426 - loss: 0.4135 - val_RootMeanSquaredError: 0.6534 - val_loss: 0.4269\n",
            "Epoch 20/20\n",
            "\u001b[1m363/363\u001b[0m \u001b[32m━━━━━━━━━━━━━━━━━━━━\u001b[0m\u001b[37m\u001b[0m \u001b[1m0s\u001b[0m 241us/step - RootMeanSquaredError: 0.6137 - loss: 0.3769 - val_RootMeanSquaredError: 0.6588 - val_loss: 0.4341\n",
            "\u001b[1m162/162\u001b[0m \u001b[32m━━━━━━━━━━━━━━━━━━━━\u001b[0m\u001b[37m\u001b[0m \u001b[1m0s\u001b[0m 168us/step - RootMeanSquaredError: 0.6357 - loss: 0.4042\n",
            "\u001b[1m1/1\u001b[0m \u001b[32m━━━━━━━━━━━━━━━━━━━━\u001b[0m\u001b[37m\u001b[0m \u001b[1m0s\u001b[0m 13ms/step\n"
          ]
        }
      ],
      "source": [
        "model = keras.models.Sequential([\n",
        "\n",
        "    # No hace falta capa de flatten. No hay que aplanar ninguna imagen\n",
        "    keras.layers.Dense(30, activation=\"relu\",\n",
        "                       input_shape=X_train.shape[1:]),\n",
        "    keras.layers.Dense(1) # una unica neurona de salida\n",
        "    # Sin fun de activa. ReLu no iria mal si el output es positivo. Sigmoide si esta acotado.\n",
        "])\n",
        "\n",
        "model.compile(loss=\"mean_squared_error\",\n",
        "              optimizer=\"sgd\",\n",
        "              metrics = [\"RootMeanSquaredError\"])\n",
        "\n",
        "history = model.fit(X_train, y_train, epochs=20,\n",
        "                    validation_data=(X_valid, y_valid))\n",
        "\n",
        "mse_test = model.evaluate(X_test, y_test)\n",
        "X_new = X_test[:3] # pretend these are new instances\n",
        "y_pred = model.predict(X_new)\n"
      ]
    },
    {
      "cell_type": "code",
      "execution_count": 50,
      "metadata": {
        "colab": {
          "base_uri": "https://localhost:8080/"
        },
        "id": "JkzsxFCy_sye",
        "outputId": "b26bb412-fcf0-46e1-b859-018815004410",
        "scrolled": true
      },
      "outputs": [
        {
          "name": "stdout",
          "output_type": "stream",
          "text": [
            "MSE: [0.39407411217689514, 0.6277531981468201]\n"
          ]
        }
      ],
      "source": [
        "print(\"MSE:\",mse_test)"
      ]
    },
    {
      "cell_type": "code",
      "execution_count": 51,
      "metadata": {
        "colab": {
          "base_uri": "https://localhost:8080/"
        },
        "id": "ACf-FYNM_sye",
        "outputId": "bd4176e0-30ae-439f-c018-679e88f10846",
        "scrolled": true
      },
      "outputs": [
        {
          "data": {
            "text/plain": [
              "{'RootMeanSquaredError': [0.8829249143600464,\n",
              "  0.9228108525276184,\n",
              "  0.7333078384399414,\n",
              "  0.6878035664558411,\n",
              "  0.6753113865852356,\n",
              "  0.6600707769393921,\n",
              "  0.6522995233535767,\n",
              "  0.6486663818359375,\n",
              "  0.6465465426445007,\n",
              "  0.6391989588737488,\n",
              "  0.6356251239776611,\n",
              "  0.6331197023391724,\n",
              "  0.630527913570404,\n",
              "  0.6363666653633118,\n",
              "  0.6252070069313049,\n",
              "  0.6235612630844116,\n",
              "  0.6243125200271606,\n",
              "  0.6439558863639832,\n",
              "  0.6505876779556274,\n",
              "  0.624352216720581],\n",
              " 'loss': [0.7795564532279968,\n",
              "  0.8515799045562744,\n",
              "  0.5377404093742371,\n",
              "  0.4730737507343292,\n",
              "  0.4560455083847046,\n",
              "  0.4356934130191803,\n",
              "  0.4254946708679199,\n",
              "  0.42076805233955383,\n",
              "  0.4180224537849426,\n",
              "  0.4085753262042999,\n",
              "  0.4040192663669586,\n",
              "  0.4008405804634094,\n",
              "  0.39756548404693604,\n",
              "  0.4049625098705292,\n",
              "  0.39088383316993713,\n",
              "  0.3888286352157593,\n",
              "  0.3897661566734314,\n",
              "  0.4146791696548462,\n",
              "  0.42326435446739197,\n",
              "  0.38981568813323975],\n",
              " 'val_RootMeanSquaredError': [0.7719605565071106,\n",
              "  0.7238261103630066,\n",
              "  0.7027113437652588,\n",
              "  0.7049453854560852,\n",
              "  0.6679614782333374,\n",
              "  0.6635907888412476,\n",
              "  0.6599744558334351,\n",
              "  0.6533971428871155,\n",
              "  0.6468546986579895,\n",
              "  0.6440029144287109,\n",
              "  0.6483229398727417,\n",
              "  0.6570729613304138,\n",
              "  0.6438274383544922,\n",
              "  0.6306420564651489,\n",
              "  0.6409563422203064,\n",
              "  0.6241201162338257,\n",
              "  0.6240106821060181,\n",
              "  0.6573219299316406,\n",
              "  0.6533803343772888,\n",
              "  0.6588482856750488],\n",
              " 'val_loss': [0.5959230661392212,\n",
              "  0.5239242315292358,\n",
              "  0.4938032627105713,\n",
              "  0.4969480335712433,\n",
              "  0.4461725652217865,\n",
              "  0.44035273790359497,\n",
              "  0.435566246509552,\n",
              "  0.4269278049468994,\n",
              "  0.4184209704399109,\n",
              "  0.41473978757858276,\n",
              "  0.42032262682914734,\n",
              "  0.43174484372138977,\n",
              "  0.4145137667655945,\n",
              "  0.39770936965942383,\n",
              "  0.4108250141143799,\n",
              "  0.3895258903503418,\n",
              "  0.389389306306839,\n",
              "  0.43207213282585144,\n",
              "  0.42690590023994446,\n",
              "  0.4340810775756836]}"
            ]
          },
          "execution_count": 51,
          "metadata": {},
          "output_type": "execute_result"
        }
      ],
      "source": [
        "history.history"
      ]
    },
    {
      "cell_type": "code",
      "execution_count": 52,
      "metadata": {
        "colab": {
          "base_uri": "https://localhost:8080/",
          "height": 451
        },
        "id": "mkIAwZhf_syf",
        "outputId": "b29c81e8-3fa7-4834-8238-c02c1da0cd15"
      },
      "outputs": [
        {
          "data": {
            "image/png": "[encoded data removed]",
            "text/plain": [
              "<Figure size 800x500 with 1 Axes>"
            ]
          },
          "metadata": {},
          "output_type": "display_data"
        }
      ],
      "source": [
        "pd.DataFrame(history.history).plot(figsize=(8, 5))\n",
        "plt.grid(True)\n",
        "plt.gca().set_ylim(0, 1) # set the vertical range to [0-1]\n",
        "plt.show()"
      ]
    },
    {
      "cell_type": "markdown",
      "metadata": {
        "id": "BGeSZYG__syf"
      },
      "source": [
        "***"
      ]
    },
    {
      "cell_type": "code",
      "execution_count": 53,
      "metadata": {
        "colab": {
          "base_uri": "https://localhost:8080/"
        },
        "id": "pOKdy61u_syf",
        "outputId": "34bce4c2-1d8c-461d-8e94-1b20f8c08899"
      },
      "outputs": [
        {
          "name": "stdout",
          "output_type": "stream",
          "text": [
            "Epoch 1/20\n",
            "\u001b[1m  4/363\u001b[0m \u001b[37m━━━━━━━━━━━━━━━━━━━━\u001b[0m \u001b[1m0s\u001b[0m 669us/step - MeanAbsoluteError: 2.0779 - RootMeanSquaredError: 2.5731 - loss: 6.2098 "
          ]
        },
        {
          "name": "stderr",
          "output_type": "stream",
          "text": [
            "/Library/Frameworks/Python.framework/Versions/3.12/lib/python3.12/site-packages/keras/src/layers/preprocessing/tf_data_layer.py:19: UserWarning: Do not pass an `input_shape`/`input_dim` argument to a layer. When using Sequential models, prefer using an `Input(shape)` object as the first layer in the model instead.\n",
            "  super().__init__(**kwargs)\n"
          ]
        },
        {
          "name": "stdout",
          "output_type": "stream",
          "text": [
            "\u001b[1m363/363\u001b[0m \u001b[32m━━━━━━━━━━━━━━━━━━━━\u001b[0m\u001b[37m\u001b[0m \u001b[1m0s\u001b[0m 407us/step - MeanAbsoluteError: 0.8122 - RootMeanSquaredError: 1.1362 - loss: 1.3863 - val_MeanAbsoluteError: 0.5365 - val_RootMeanSquaredError: 0.7466 - val_loss: 0.5574\n",
            "Epoch 2/20\n",
            "\u001b[1m363/363\u001b[0m \u001b[32m━━━━━━━━━━━━━━━━━━━━\u001b[0m\u001b[37m\u001b[0m \u001b[1m0s\u001b[0m 256us/step - MeanAbsoluteError: 0.5251 - RootMeanSquaredError: 0.7754 - loss: 0.6062 - val_MeanAbsoluteError: 0.5274 - val_RootMeanSquaredError: 0.7370 - val_loss: 0.5431\n",
            "Epoch 3/20\n",
            "\u001b[1m363/363\u001b[0m \u001b[32m━━━━━━━━━━━━━━━━━━━━\u001b[0m\u001b[37m\u001b[0m \u001b[1m0s\u001b[0m 264us/step - MeanAbsoluteError: 0.5203 - RootMeanSquaredError: 0.7971 - loss: 0.6486 - val_MeanAbsoluteError: 0.5060 - val_RootMeanSquaredError: 0.7032 - val_loss: 0.4945\n",
            "Epoch 4/20\n",
            "\u001b[1m363/363\u001b[0m \u001b[32m━━━━━━━━━━━━━━━━━━━━\u001b[0m\u001b[37m\u001b[0m \u001b[1m0s\u001b[0m 263us/step - MeanAbsoluteError: 0.4960 - RootMeanSquaredError: 0.7039 - loss: 0.4967 - val_MeanAbsoluteError: 0.4761 - val_RootMeanSquaredError: 0.6642 - val_loss: 0.4412\n",
            "Epoch 5/20\n",
            "\u001b[1m363/363\u001b[0m \u001b[32m━━━━━━━━━━━━━━━━━━━━\u001b[0m\u001b[37m\u001b[0m \u001b[1m0s\u001b[0m 259us/step - MeanAbsoluteError: 0.4606 - RootMeanSquaredError: 0.6616 - loss: 0.4414 - val_MeanAbsoluteError: 0.4850 - val_RootMeanSquaredError: 0.6741 - val_loss: 0.4544\n",
            "Epoch 6/20\n",
            "\u001b[1m363/363\u001b[0m \u001b[32m━━━━━━━━━━━━━━━━━━━━\u001b[0m\u001b[37m\u001b[0m \u001b[1m0s\u001b[0m 267us/step - MeanAbsoluteError: 0.4715 - RootMeanSquaredError: 0.7270 - loss: 0.5323 - val_MeanAbsoluteError: 0.4602 - val_RootMeanSquaredError: 0.6506 - val_loss: 0.4233\n",
            "Epoch 7/20\n",
            "\u001b[1m363/363\u001b[0m \u001b[32m━━━━━━━━━━━━━━━━━━━━\u001b[0m\u001b[37m\u001b[0m \u001b[1m0s\u001b[0m 271us/step - MeanAbsoluteError: 0.4514 - RootMeanSquaredError: 0.6311 - loss: 0.3983 - val_MeanAbsoluteError: 0.4501 - val_RootMeanSquaredError: 0.6365 - val_loss: 0.4051\n",
            "Epoch 8/20\n",
            "\u001b[1m363/363\u001b[0m \u001b[32m━━━━━━━━━━━━━━━━━━━━\u001b[0m\u001b[37m\u001b[0m \u001b[1m0s\u001b[0m 262us/step - MeanAbsoluteError: 0.4470 - RootMeanSquaredError: 0.6283 - loss: 0.3948 - val_MeanAbsoluteError: 0.4458 - val_RootMeanSquaredError: 0.6344 - val_loss: 0.4025\n",
            "Epoch 9/20\n",
            "\u001b[1m363/363\u001b[0m \u001b[32m━━━━━━━━━━━━━━━━━━━━\u001b[0m\u001b[37m\u001b[0m \u001b[1m0s\u001b[0m 262us/step - MeanAbsoluteError: 0.4334 - RootMeanSquaredError: 0.6072 - loss: 0.3690 - val_MeanAbsoluteError: 0.4403 - val_RootMeanSquaredError: 0.6257 - val_loss: 0.3915\n",
            "Epoch 10/20\n",
            "\u001b[1m363/363\u001b[0m \u001b[32m━━━━━━━━━━━━━━━━━━━━\u001b[0m\u001b[37m\u001b[0m \u001b[1m0s\u001b[0m 260us/step - MeanAbsoluteError: 0.4333 - RootMeanSquaredError: 0.6124 - loss: 0.3753 - val_MeanAbsoluteError: 0.4427 - val_RootMeanSquaredError: 0.6270 - val_loss: 0.3932\n",
            "Epoch 11/20\n",
            "\u001b[1m363/363\u001b[0m \u001b[32m━━━━━━━━━━━━━━━━━━━━\u001b[0m\u001b[37m\u001b[0m \u001b[1m0s\u001b[0m 258us/step - MeanAbsoluteError: 0.4361 - RootMeanSquaredError: 0.6197 - loss: 0.3844 - val_MeanAbsoluteError: 0.4381 - val_RootMeanSquaredError: 0.6189 - val_loss: 0.3830\n",
            "Epoch 12/20\n",
            "\u001b[1m363/363\u001b[0m \u001b[32m━━━━━━━━━━━━━━━━━━━━\u001b[0m\u001b[37m\u001b[0m \u001b[1m0s\u001b[0m 256us/step - MeanAbsoluteError: 0.4255 - RootMeanSquaredError: 0.6068 - loss: 0.3683 - val_MeanAbsoluteError: 0.4368 - val_RootMeanSquaredError: 0.6203 - val_loss: 0.3847\n",
            "Epoch 13/20\n",
            "\u001b[1m363/363\u001b[0m \u001b[32m━━━━━━━━━━━━━━━━━━━━\u001b[0m\u001b[37m\u001b[0m \u001b[1m0s\u001b[0m 261us/step - MeanAbsoluteError: 0.4267 - RootMeanSquaredError: 0.6027 - loss: 0.3634 - val_MeanAbsoluteError: 0.4302 - val_RootMeanSquaredError: 0.6104 - val_loss: 0.3726\n",
            "Epoch 14/20\n",
            "\u001b[1m363/363\u001b[0m \u001b[32m━━━━━━━━━━━━━━━━━━━━\u001b[0m\u001b[37m\u001b[0m \u001b[1m0s\u001b[0m 262us/step - MeanAbsoluteError: 0.4263 - RootMeanSquaredError: 0.6051 - loss: 0.3663 - val_MeanAbsoluteError: 0.4299 - val_RootMeanSquaredError: 0.6092 - val_loss: 0.3712\n",
            "Epoch 15/20\n",
            "\u001b[1m363/363\u001b[0m \u001b[32m━━━━━━━━━━━━━━━━━━━━\u001b[0m\u001b[37m\u001b[0m \u001b[1m0s\u001b[0m 261us/step - MeanAbsoluteError: 0.4242 - RootMeanSquaredError: 0.6032 - loss: 0.3640 - val_MeanAbsoluteError: 0.4293 - val_RootMeanSquaredError: 0.6106 - val_loss: 0.3728\n",
            "Epoch 16/20\n",
            "\u001b[1m363/363\u001b[0m \u001b[32m━━━━━━━━━━━━━━━━━━━━\u001b[0m\u001b[37m\u001b[0m \u001b[1m0s\u001b[0m 267us/step - MeanAbsoluteError: 0.4234 - RootMeanSquaredError: 0.5981 - loss: 0.3579 - val_MeanAbsoluteError: 0.4239 - val_RootMeanSquaredError: 0.6059 - val_loss: 0.3671\n",
            "Epoch 17/20\n",
            "\u001b[1m363/363\u001b[0m \u001b[32m━━━━━━━━━━━━━━━━━━━━\u001b[0m\u001b[37m\u001b[0m \u001b[1m0s\u001b[0m 279us/step - MeanAbsoluteError: 0.4186 - RootMeanSquaredError: 0.5946 - loss: 0.3537 - val_MeanAbsoluteError: 0.4204 - val_RootMeanSquaredError: 0.6024 - val_loss: 0.3629\n",
            "Epoch 18/20\n",
            "\u001b[1m363/363\u001b[0m \u001b[32m━━━━━━━━━━━━━━━━━━━━\u001b[0m\u001b[37m\u001b[0m \u001b[1m0s\u001b[0m 253us/step - MeanAbsoluteError: 0.4167 - RootMeanSquaredError: 0.5917 - loss: 0.3503 - val_MeanAbsoluteError: 0.4266 - val_RootMeanSquaredError: 0.6019 - val_loss: 0.3623\n",
            "Epoch 19/20\n",
            "\u001b[1m363/363\u001b[0m \u001b[32m━━━━━━━━━━━━━━━━━━━━\u001b[0m\u001b[37m\u001b[0m \u001b[1m0s\u001b[0m 263us/step - MeanAbsoluteError: 0.4244 - RootMeanSquaredError: 0.5993 - loss: 0.3592 - val_MeanAbsoluteError: 0.4220 - val_RootMeanSquaredError: 0.6009 - val_loss: 0.3611\n",
            "Epoch 20/20\n",
            "\u001b[1m363/363\u001b[0m \u001b[32m━━━━━━━━━━━━━━━━━━━━\u001b[0m\u001b[37m\u001b[0m \u001b[1m0s\u001b[0m 314us/step - MeanAbsoluteError: 0.4210 - RootMeanSquaredError: 0.5963 - loss: 0.3559 - val_MeanAbsoluteError: 0.4204 - val_RootMeanSquaredError: 0.6088 - val_loss: 0.3706\n",
            "\u001b[1m162/162\u001b[0m \u001b[32m━━━━━━━━━━━━━━━━━━━━\u001b[0m\u001b[37m\u001b[0m \u001b[1m0s\u001b[0m 176us/step - MeanAbsoluteError: 0.4143 - RootMeanSquaredError: 0.6110 - loss: 0.3736\n",
            "\u001b[1m1/1\u001b[0m \u001b[32m━━━━━━━━━━━━━━━━━━━━\u001b[0m\u001b[37m\u001b[0m \u001b[1m0s\u001b[0m 16ms/step\n"
          ]
        }
      ],
      "source": [
        "#Otra forma pure-Keras:\n",
        "X_train_full, X_test, y_train_full, y_test = train_test_split(housing.data,\n",
        "                                                              housing.target)\n",
        "\n",
        "X_train, X_valid, y_train, y_valid = train_test_split(X_train_full,\n",
        "                                                      y_train_full)\n",
        "\n",
        "\n",
        "norm_layer = keras.layers.Normalization(input_shape = X_train.shape[1:]) # Es una Standardization\n",
        "model = keras.models.Sequential([\n",
        "\n",
        "    # No hace falta capa de flatten. No hay que aplanar ninguna imagen\n",
        "    norm_layer,\n",
        "    keras.layers.Dense(30, activation=\"relu\"),\n",
        "    keras.layers.Dense(1) # una unica neurona de salida\n",
        "    # Sin fun de activa. ReLu no iria mal si el output es positivo. Sigmoide si esta acotado.\n",
        "])\n",
        "optimizer = keras.optimizers.SGD()\n",
        "model.compile(loss=\"mean_squared_error\",\n",
        "              optimizer=optimizer, metrics = [\"RootMeanSquaredError\",\"MeanAbsoluteError\"])\n",
        "norm_layer.adapt(X_train)\n",
        "history = model.fit(X_train, y_train, epochs=20,\n",
        "                    validation_data=(X_valid, y_valid))\n",
        "\n",
        "mse_test = model.evaluate(X_test, y_test)\n",
        "X_new = X_test[:3] # pretend these are new instances\n",
        "y_pred = model.predict(X_new)"
      ]
    },
    {
      "cell_type": "code",
      "execution_count": 54,
      "metadata": {
        "colab": {
          "base_uri": "https://localhost:8080/"
        },
        "id": "9cr6v66k_syf",
        "outputId": "2084f3b6-5880-48f3-c563-78d3eaa9f177"
      },
      "outputs": [
        {
          "name": "stdout",
          "output_type": "stream",
          "text": [
            "MSE: [0.3656763434410095, 0.6047117710113525, 0.4117896258831024]\n"
          ]
        }
      ],
      "source": [
        "print(\"MSE:\",mse_test)"
      ]
    },
    {
      "cell_type": "markdown",
      "metadata": {
        "id": "-yA-WPkn_syf"
      },
      "source": [
        "Nueva capa al toolbox:\n",
        "\n",
        "Funcionales:  \n",
        "__Normalize__: keras.layers.Normalization -> Nos hace la standardizacion de la entrada\n",
        "Hay que ejecutar el metodo Adapt antes de llamar al fit del modelo que incluya la capa"
      ]
    },
    {
      "cell_type": "markdown",
      "metadata": {
        "id": "EMnKdmd9_syf"
      },
      "source": [
        "***"
      ]
    },
    {
      "cell_type": "markdown",
      "metadata": {
        "id": "5axNac0V_syf"
      },
      "source": [
        "### Guardar modelo\n",
        "Para guardar el modelo, en el formato de Keras."
      ]
    },
    {
      "cell_type": "code",
      "execution_count": 53,
      "metadata": {
        "id": "KEc5VjtS_syf"
      },
      "outputs": [],
      "source": [
        "model.save(\"my_keras_model.keras\")"
      ]
    },
    {
      "cell_type": "code",
      "execution_count": 54,
      "metadata": {
        "id": "ybksm3ak_syg"
      },
      "outputs": [],
      "source": [
        "# Lo volvemos a cargar\n",
        "model = keras.models.load_model(\"my_keras_model.keras\")"
      ]
    },
    {
      "cell_type": "markdown",
      "metadata": {
        "id": "Hz1C4K0r_syg"
      },
      "source": [
        "Otra forma es emplear el formato TensorFlow. En este caso crea un directorio con varios ficheros que facilita el despliegue en algunas aplicaciones (ojo, que habría que llevar a producción todo el directorio)"
      ]
    },
    {
      "cell_type": "code",
      "execution_count": 56,
      "metadata": {
        "id": "6ce9kdBK_syg"
      },
      "outputs": [],
      "source": [
        "#model.save(\"my_model_tf_format\", save_format= \"tf\")"
      ]
    },
    {
      "cell_type": "code",
      "execution_count": null,
      "metadata": {
        "id": "sxS0X3gQ_syg"
      },
      "outputs": [],
      "source": [
        "# Lo volvemos a cargar\n",
        "#model_k= keras.models.load_model(\"my_model_tf_format\")"
      ]
    },
    {
      "cell_type": "markdown",
      "metadata": {
        "id": "0kofhdl3_syg"
      },
      "source": [
        "### Callbacks\n",
        "Son funciones predefinidas de Keras a aplicar durante el entrenamiento\n",
        "Por ejemplo, `ModelCheckpoint` sirve para que el modelo se vaya guardando tras cada epoch. Así no perdemos el progreso en caso de que decidamos interrumpir el entrenamiento. El callback recibe como argumento el nombre del objeto donde queremos que se guarde el modelo entrenado."
      ]
    },
    {
      "cell_type": "code",
      "execution_count": 58,
      "metadata": {
        "colab": {
          "base_uri": "https://localhost:8080/"
        },
        "id": "GVPubFmc_syg",
        "outputId": "ec6dba8c-93da-4591-c74e-9d7c98bb3cdf"
      },
      "outputs": [
        {
          "name": "stdout",
          "output_type": "stream",
          "text": [
            "Epoch 1/10\n",
            "\u001b[1m363/363\u001b[0m \u001b[32m━━━━━━━━━━━━━━━━━━━━\u001b[0m\u001b[37m\u001b[0m \u001b[1m2s\u001b[0m 3ms/step - MeanAbsoluteError: 0.4062 - RootMeanSquaredError: 0.5751 - loss: 0.3312\n",
            "Epoch 2/10\n",
            "\u001b[1m363/363\u001b[0m \u001b[32m━━━━━━━━━━━━━━━━━━━━\u001b[0m\u001b[37m\u001b[0m \u001b[1m1s\u001b[0m 3ms/step - MeanAbsoluteError: 0.4142 - RootMeanSquaredError: 0.5897 - loss: 0.3479\n",
            "Epoch 3/10\n",
            "\u001b[1m363/363\u001b[0m \u001b[32m━━━━━━━━━━━━━━━━━━━━\u001b[0m\u001b[37m\u001b[0m \u001b[1m1s\u001b[0m 2ms/step - MeanAbsoluteError: 0.4108 - RootMeanSquaredError: 0.5825 - loss: 0.3393\n",
            "Epoch 4/10\n",
            "\u001b[1m363/363\u001b[0m \u001b[32m━━━━━━━━━━━━━━━━━━━━\u001b[0m\u001b[37m\u001b[0m \u001b[1m1s\u001b[0m 2ms/step - MeanAbsoluteError: 0.4132 - RootMeanSquaredError: 0.5870 - loss: 0.3454\n",
            "Epoch 5/10\n",
            "\u001b[1m363/363\u001b[0m \u001b[32m━━━━━━━━━━━━━━━━━━━━\u001b[0m\u001b[37m\u001b[0m \u001b[1m1s\u001b[0m 2ms/step - MeanAbsoluteError: 0.4009 - RootMeanSquaredError: 0.5718 - loss: 0.3270\n",
            "Epoch 6/10\n",
            "\u001b[1m363/363\u001b[0m \u001b[32m━━━━━━━━━━━━━━━━━━━━\u001b[0m\u001b[37m\u001b[0m \u001b[1m1s\u001b[0m 2ms/step - MeanAbsoluteError: 0.4073 - RootMeanSquaredError: 0.5792 - loss: 0.3356\n",
            "Epoch 7/10\n",
            "\u001b[1m363/363\u001b[0m \u001b[32m━━━━━━━━━━━━━━━━━━━━\u001b[0m\u001b[37m\u001b[0m \u001b[1m2s\u001b[0m 4ms/step - MeanAbsoluteError: 0.4092 - RootMeanSquaredError: 0.5836 - loss: 0.3406\n",
            "Epoch 8/10\n",
            "\u001b[1m363/363\u001b[0m \u001b[32m━━━━━━━━━━━━━━━━━━━━\u001b[0m\u001b[37m\u001b[0m \u001b[1m1s\u001b[0m 1ms/step - MeanAbsoluteError: 0.4017 - RootMeanSquaredError: 0.5771 - loss: 0.3334\n",
            "Epoch 9/10\n",
            "\u001b[1m363/363\u001b[0m \u001b[32m━━━━━━━━━━━━━━━━━━━━\u001b[0m\u001b[37m\u001b[0m \u001b[1m1s\u001b[0m 2ms/step - MeanAbsoluteError: 0.4047 - RootMeanSquaredError: 0.5751 - loss: 0.3308\n",
            "Epoch 10/10\n",
            "\u001b[1m363/363\u001b[0m \u001b[32m━━━━━━━━━━━━━━━━━━━━\u001b[0m\u001b[37m\u001b[0m \u001b[1m1s\u001b[0m 2ms/step - MeanAbsoluteError: 0.4057 - RootMeanSquaredError: 0.5791 - loss: 0.3355\n"
          ]
        }
      ],
      "source": [
        "checkpoint_cb = keras.callbacks.ModelCheckpoint(\"callback_model.keras\")\n",
        "history = model.fit(X_train, y_train, epochs=10, callbacks=[checkpoint_cb])\n"
      ]
    },
    {
      "cell_type": "markdown",
      "metadata": {
        "id": "HBACjjeI_syg"
      },
      "source": [
        "### Early Stopping\n",
        "Interrumpe el entrenamiento cuando no ve progreso en el set de validación. Para ello tiene en cuenta un numero de epochs llamado `patience`. Se puede combinar con el callback"
      ]
    },
    {
      "cell_type": "code",
      "execution_count": 59,
      "metadata": {
        "colab": {
          "base_uri": "https://localhost:8080/"
        },
        "id": "biahsX59_syh",
        "outputId": "6e19d1bc-3765-4205-f855-cc8e4bef6d5b"
      },
      "outputs": [
        {
          "name": "stdout",
          "output_type": "stream",
          "text": [
            "Epoch 1/100\n",
            "\u001b[1m363/363\u001b[0m \u001b[32m━━━━━━━━━━━━━━━━━━━━\u001b[0m\u001b[37m\u001b[0m \u001b[1m1s\u001b[0m 2ms/step - MeanAbsoluteError: 0.4007 - RootMeanSquaredError: 0.5698 - loss: 0.3248 - val_MeanAbsoluteError: 0.3974 - val_RootMeanSquaredError: 0.5849 - val_loss: 0.3421\n",
            "Epoch 2/100\n",
            "\u001b[1m363/363\u001b[0m \u001b[32m━━━━━━━━━━━━━━━━━━━━\u001b[0m\u001b[37m\u001b[0m \u001b[1m1s\u001b[0m 2ms/step - MeanAbsoluteError: 0.3959 - RootMeanSquaredError: 0.5649 - loss: 0.3195 - val_MeanAbsoluteError: 0.4029 - val_RootMeanSquaredError: 0.5790 - val_loss: 0.3352\n",
            "Epoch 3/100\n",
            "\u001b[1m363/363\u001b[0m \u001b[32m━━━━━━━━━━━━━━━━━━━━\u001b[0m\u001b[37m\u001b[0m \u001b[1m1s\u001b[0m 2ms/step - MeanAbsoluteError: 0.4009 - RootMeanSquaredError: 0.5720 - loss: 0.3275 - val_MeanAbsoluteError: 0.4046 - val_RootMeanSquaredError: 0.5749 - val_loss: 0.3305\n",
            "Epoch 4/100\n",
            "\u001b[1m363/363\u001b[0m \u001b[32m━━━━━━━━━━━━━━━━━━━━\u001b[0m\u001b[37m\u001b[0m \u001b[1m1s\u001b[0m 2ms/step - MeanAbsoluteError: 0.4019 - RootMeanSquaredError: 0.5732 - loss: 0.3286 - val_MeanAbsoluteError: 0.3998 - val_RootMeanSquaredError: 0.5777 - val_loss: 0.3337\n",
            "Epoch 5/100\n",
            "\u001b[1m363/363\u001b[0m \u001b[32m━━━━━━━━━━━━━━━━━━━━\u001b[0m\u001b[37m\u001b[0m \u001b[1m2s\u001b[0m 3ms/step - MeanAbsoluteError: 0.4303 - RootMeanSquaredError: 0.6343 - loss: 0.4055 - val_MeanAbsoluteError: 0.4151 - val_RootMeanSquaredError: 0.5825 - val_loss: 0.3393\n",
            "Epoch 6/100\n",
            "\u001b[1m363/363\u001b[0m \u001b[32m━━━━━━━━━━━━━━━━━━━━\u001b[0m\u001b[37m\u001b[0m \u001b[1m1s\u001b[0m 3ms/step - MeanAbsoluteError: 0.4041 - RootMeanSquaredError: 0.5715 - loss: 0.3270 - val_MeanAbsoluteError: 0.4111 - val_RootMeanSquaredError: 0.5822 - val_loss: 0.3390\n",
            "Epoch 7/100\n",
            "\u001b[1m363/363\u001b[0m \u001b[32m━━━━━━━━━━━━━━━━━━━━\u001b[0m\u001b[37m\u001b[0m \u001b[1m2s\u001b[0m 2ms/step - MeanAbsoluteError: 0.4058 - RootMeanSquaredError: 0.5733 - loss: 0.3290 - val_MeanAbsoluteError: 0.4035 - val_RootMeanSquaredError: 0.5827 - val_loss: 0.3395\n",
            "Epoch 8/100\n",
            "\u001b[1m363/363\u001b[0m \u001b[32m━━━━━━━━━━━━━━━━━━━━\u001b[0m\u001b[37m\u001b[0m \u001b[1m1s\u001b[0m 2ms/step - MeanAbsoluteError: 0.4037 - RootMeanSquaredError: 0.5750 - loss: 0.3307 - val_MeanAbsoluteError: 0.4030 - val_RootMeanSquaredError: 0.5795 - val_loss: 0.3358\n"
          ]
        }
      ],
      "source": [
        "'''\n",
        "10 esta bien. Lo pondemos a 5 para el ejercicio\n",
        "¿Qué considera como dejar de mejorar? parametros min_delta y baseline\n",
        "'''\n",
        "early_stopping_cb = keras.callbacks.EarlyStopping(patience=5,\n",
        "                                                  restore_best_weights=True)\n",
        "history = model.fit(X_train, y_train, epochs=100,\n",
        "                    validation_data=(X_valid, y_valid),\n",
        "                    callbacks=[checkpoint_cb, early_stopping_cb])"
      ]
    },
    {
      "cell_type": "markdown",
      "metadata": {
        "id": "_ytNKm-L_syh"
      },
      "source": [
        "***"
      ]
    },
    {
      "cell_type": "markdown",
      "metadata": {
        "id": "pkNeX5O-_syh"
      },
      "source": [
        "## Hiperparámetros y tuning"
      ]
    },
    {
      "cell_type": "markdown",
      "metadata": {
        "id": "t1H7A9vr_syh"
      },
      "source": [
        "Guía \"casera\":\n",
        "\n",
        "1- Recetas (adaptada de \"Hands-on...\")  PARA MLPs!!!!    \n",
        "    * Capas:   \n",
        "        - Empezar con una capa oculta e ir añadiendo  \n",
        "        - Si pocas features -> más neuronas  (aumentar la combinación de features) (num_features < 100) [Orientativo]  \n",
        "        - Si muchas features  -> menos neuronas (proyección tipo PCA) (num_features > 1000) [Orientativo] e ir aumentando en capas sucesivas\n",
        "        - O empezar con muchas (doble de tus features e ir \"estrechando los pantalones\")  \n",
        "        - Construcción en prisma o pirámide (para empezar)  \n",
        "        - Inicialización: Empezar con Glorot, cambiar a He  \n",
        "        - Activación: ReLU salvo la última, si muchas capas probar -> SELU o Swish (con el inicializador a LeCunn)   \n",
        "    * Optimizadores:   \n",
        "        - Si muchos datos*features -> Adam o AdamW con sus valores por defecto  \n",
        "        - Si no, SGD con Nesterov activado, y momento a 0.9  \n",
        "        - Learning rate -> 0.001-0.0001 para empezar e ir creciendo (learning-rate warm-up) (Si te atreves, buscar adaptative learning rate y optimizar con esto)  \n",
        "    * Entrenamiento:  \n",
        "        - Epoch, probar con pocas para ver duración -> Epochs altas y Callback de Early Stop activado  \n",
        "        - Batch_Size -> 32, si tienes muchos datos y una GPU a mano puedes subir mucho 64,128,256...\n",
        "    * Regularización (lo veremos):  \n",
        "        - Dropout al 0.25-0.5 (sin SELU)\n",
        "\n",
        "\n",
        "\n",
        "2- Pasos  \n",
        "    - Si overfitting -> Regularizar: Earlystopping, Dropout (lo veremos en los siguientes sprints)  \n",
        "    - Comprobar underfitting -> Aumentar epochs, aumentar batch_size  \n",
        "    - Jugar con optimizador: learning rate (de pequeño a grande), tipo de optimizador   \n",
        "    - Jugar con número de capas (ojo al overfitting) y las funciones de activación y la inicialización de pesos  \n",
        "    - Jugar con el número de neuronas por capa (suele ser piramide o prisma, pero puedes jugar a expandir dimensiones)  \n",
        "    - Combinar los dos anteriores  \n",
        "\n",
        "3- Keras Tuner:\n",
        "    https://keras.io/guides/keras_tuner/"
      ]
    },
    {
      "cell_type": "code",
      "execution_count": null,
      "metadata": {
        "id": "r-C_l4_I_syh"
      },
      "outputs": [],
      "source": []
    }
  ],
  "metadata": {
    "colab": {
      "provenance": []
    },
    "kernelspec": {
      "display_name": "Python 3",
      "language": "python",
      "name": "python3"
    },
    "language_info": {
      "codemirror_mode": {
        "name": "ipython",
        "version": 3
      },
      "file_extension": ".py",
      "mimetype": "text/x-python",
      "name": "python",
      "nbconvert_exporter": "python",
      "pygments_lexer": "ipython3",
      "version": "3.12.3"
    }
  },
  "nbformat": 4,
  "nbformat_minor": 0
}
